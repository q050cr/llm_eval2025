{
 "cells": [
  {
   "cell_type": "markdown",
   "id": "e8fc24a2",
   "metadata": {},
   "source": [
    "# A Programmatic Evaluation of Large Language Models for Clinical Decision Support in Heart Failure and Cardiomyopathy Management"
   ]
  },
  {
   "cell_type": "markdown",
   "id": "9be923b5",
   "metadata": {},
   "source": [
    "***"
   ]
  },
  {
   "cell_type": "code",
   "execution_count": 1,
   "id": "44cdac14",
   "metadata": {},
   "outputs": [],
   "source": [
    "import os\n",
    "import pandas as pd\n",
    "from dotenv import load_dotenv\n",
    "from chatlas import ChatOpenAI, ChatGoogle, ChatPerplexity, ChatOllama\n",
    "from tqdm import tqdm"
   ]
  },
  {
   "cell_type": "markdown",
   "id": "0c40c215",
   "metadata": {},
   "source": [
    "## Load API Keys"
   ]
  },
  {
   "cell_type": "code",
   "execution_count": 2,
   "id": "3db3046a",
   "metadata": {},
   "outputs": [],
   "source": [
    "load_dotenv()\n",
    "openai_api_key = os.getenv(\"OPENAI_API_KEY\")\n",
    "google_api_key = os.getenv(\"GOOGLE_API_KEY\")\n",
    "perplex_api_key = os.getenv(\"PERPLEX_API_KEY\")\n",
    "github_pat = os.getenv(\"GITHUB_PAT\")"
   ]
  },
  {
   "cell_type": "markdown",
   "id": "0009687e",
   "metadata": {},
   "source": [
    "## Load Questions from CSV"
   ]
  },
  {
   "cell_type": "code",
   "execution_count": 3,
   "id": "78de82e1",
   "metadata": {},
   "outputs": [
    {
     "data": {
      "application/vnd.microsoft.datawrangler.viewer.v0+json": {
       "columns": [
        {
         "name": "index",
         "rawType": "int64",
         "type": "integer"
        },
        {
         "name": "index",
         "rawType": "int64",
         "type": "integer"
        },
        {
         "name": "category",
         "rawType": "object",
         "type": "string"
        },
        {
         "name": "question",
         "rawType": "object",
         "type": "string"
        },
        {
         "name": "select",
         "rawType": "object",
         "type": "string"
        }
       ],
       "conversionMethod": "pd.DataFrame",
       "ref": "8a9516ca-f260-461b-bc29-b7ba978d9010",
       "rows": [
        [
         "0",
         "1",
         "Heart Failure",
         "What are the common symptoms of heart failure?",
         "yes"
        ],
        [
         "1",
         "2",
         "Heart Failure",
         "What medications are typically prescribed for heart failure?",
         "yes"
        ],
        [
         "2",
         "3",
         "Cardiomyopathy",
         "What are the genetic causes of cardiomyopathy?",
         "yes"
        ],
        [
         "3",
         "4",
         "Cardiomyopathy",
         "How is cardiomyopathy diagnosed?",
         "yes"
        ],
        [
         "4",
         "5",
         "Heart Failure",
         "What lifestyle changes can help manage heart failure?",
         "yes"
        ]
       ],
       "shape": {
        "columns": 4,
        "rows": 5
       }
      },
      "text/html": [
       "<div>\n",
       "<style scoped>\n",
       "    .dataframe tbody tr th:only-of-type {\n",
       "        vertical-align: middle;\n",
       "    }\n",
       "\n",
       "    .dataframe tbody tr th {\n",
       "        vertical-align: top;\n",
       "    }\n",
       "\n",
       "    .dataframe thead th {\n",
       "        text-align: right;\n",
       "    }\n",
       "</style>\n",
       "<table border=\"1\" class=\"dataframe\">\n",
       "  <thead>\n",
       "    <tr style=\"text-align: right;\">\n",
       "      <th></th>\n",
       "      <th>index</th>\n",
       "      <th>category</th>\n",
       "      <th>question</th>\n",
       "      <th>select</th>\n",
       "    </tr>\n",
       "  </thead>\n",
       "  <tbody>\n",
       "    <tr>\n",
       "      <th>0</th>\n",
       "      <td>1</td>\n",
       "      <td>Heart Failure</td>\n",
       "      <td>What are the common symptoms of heart failure?</td>\n",
       "      <td>yes</td>\n",
       "    </tr>\n",
       "    <tr>\n",
       "      <th>1</th>\n",
       "      <td>2</td>\n",
       "      <td>Heart Failure</td>\n",
       "      <td>What medications are typically prescribed for ...</td>\n",
       "      <td>yes</td>\n",
       "    </tr>\n",
       "    <tr>\n",
       "      <th>2</th>\n",
       "      <td>3</td>\n",
       "      <td>Cardiomyopathy</td>\n",
       "      <td>What are the genetic causes of cardiomyopathy?</td>\n",
       "      <td>yes</td>\n",
       "    </tr>\n",
       "    <tr>\n",
       "      <th>3</th>\n",
       "      <td>4</td>\n",
       "      <td>Cardiomyopathy</td>\n",
       "      <td>How is cardiomyopathy diagnosed?</td>\n",
       "      <td>yes</td>\n",
       "    </tr>\n",
       "    <tr>\n",
       "      <th>4</th>\n",
       "      <td>5</td>\n",
       "      <td>Heart Failure</td>\n",
       "      <td>What lifestyle changes can help manage heart f...</td>\n",
       "      <td>yes</td>\n",
       "    </tr>\n",
       "  </tbody>\n",
       "</table>\n",
       "</div>"
      ],
      "text/plain": [
       "   index        category                                           question  \\\n",
       "0      1   Heart Failure     What are the common symptoms of heart failure?   \n",
       "1      2   Heart Failure  What medications are typically prescribed for ...   \n",
       "2      3  Cardiomyopathy     What are the genetic causes of cardiomyopathy?   \n",
       "3      4  Cardiomyopathy                   How is cardiomyopathy diagnosed?   \n",
       "4      5   Heart Failure  What lifestyle changes can help manage heart f...   \n",
       "\n",
       "  select  \n",
       "0    yes  \n",
       "1    yes  \n",
       "2    yes  \n",
       "3    yes  \n",
       "4    yes  "
      ]
     },
     "execution_count": 3,
     "metadata": {},
     "output_type": "execute_result"
    }
   ],
   "source": [
    "questions_df = pd.read_csv(\"./data/sample_questions.csv\")\n",
    "questions_df = questions_df[questions_df['select'] == 'yes']\n",
    "questions_df"
   ]
  },
  {
   "cell_type": "markdown",
   "id": "abcc8abf",
   "metadata": {},
   "source": [
    "## Define Function to Query APIs"
   ]
  },
  {
   "cell_type": "code",
   "execution_count": 4,
   "id": "ed0a059f",
   "metadata": {},
   "outputs": [],
   "source": [
    "def initialize_model(model_name):\n",
    "    \"\"\"\n",
    "    Helper function to initialize a model based on the name and environment variable.\n",
    "    Returns a model instance or raises an informative error.\n",
    "    \"\"\"\n",
    "    system_prompt = \"You are a friendly but terse assistant.\"\n",
    "\n",
    "    if model_name == 'openai':\n",
    "        api_key = os.getenv('OPENAI_API_KEY')\n",
    "        if not api_key:\n",
    "            raise EnvironmentError(\"Missing OPENAI_API_KEY\")\n",
    "        return ChatOpenAI(model=\"gpt-4o\", system_prompt=system_prompt, api_key=api_key)\n",
    "\n",
    "    elif model_name == 'google':\n",
    "        api_key = os.getenv('GOOGLE_API_KEY')\n",
    "        if not api_key:\n",
    "            raise EnvironmentError(\"Missing GOOGLE_API_KEY\")\n",
    "        return ChatGoogle(model=\"gemini-pro\", system_prompt=system_prompt, api_key=api_key)\n",
    "\n",
    "    elif model_name == 'perplexity':\n",
    "        api_key = os.getenv('PERPLEXITY_API_KEY')\n",
    "        if not api_key:\n",
    "            raise EnvironmentError(\"Missing PERPLEXITY_API_KEY\")\n",
    "        return ChatPerplexity(model=\"online\", system_prompt=system_prompt, api_key=api_key)\n",
    "\n",
    "    elif model_name == 'ollama':\n",
    "        return ChatOllama(model=\"llama3.2\", system_prompt=system_prompt)\n",
    "\n",
    "    else:\n",
    "        raise ValueError(f\"Unsupported model: {model_name}\")"
   ]
  },
  {
   "cell_type": "code",
   "execution_count": 5,
   "id": "75075cc8",
   "metadata": {},
   "outputs": [],
   "source": [
    "\n",
    "def query_models_chatlas(questions_df, models_to_run=['openai', 'google', 'perplexity', 'ollama']):\n",
    "    \"\"\"\n",
    "    Query selected models using Chatlas and return a DataFrame with responses.\n",
    "\n",
    "    Args:\n",
    "        questions_df (pd.DataFrame): Must have 'index', 'category', 'question'.\n",
    "        models_to_run (list): Models to query. Options: 'openai', 'google', 'perplexity', 'ollama'.\n",
    "\n",
    "    Returns:\n",
    "        pd.DataFrame: Responses from each model for each question.\n",
    "    \"\"\"\n",
    "    responses = []\n",
    "\n",
    "    # Initialize selected models\n",
    "    model_instances = {}\n",
    "    for model in models_to_run:\n",
    "        try:\n",
    "            model_instances[model] = initialize_model(model)\n",
    "        except Exception as e:\n",
    "            print(f\"[Warning] Failed to initialize {model}: {e}\")\n",
    "            model_instances[model] = None\n",
    "\n",
    "    # Query each model\n",
    "    for _, row in tqdm(questions_df.iterrows(), total=len(questions_df), desc=\"Querying models\"):\n",
    "        question, category = row['question'], row['category']\n",
    "        response_entry = {\n",
    "            'index': row['index'],\n",
    "            'category': category,\n",
    "            'question': question\n",
    "        }\n",
    "\n",
    "        for model_key in models_to_run:\n",
    "            instance = model_instances.get(model_key)\n",
    "            try:\n",
    "                if instance:\n",
    "                    response = instance.chat(question, echo=\"none\")\n",
    "                    response_entry[f'{model_key}_response'] = response.content\n",
    "                else:\n",
    "                    response_entry[f'{model_key}_response'] = \"Initialization failed\"\n",
    "            except Exception as e:\n",
    "                response_entry[f'{model_key}_response'] = f\"Error: {str(e)}\"\n",
    "\n",
    "        responses.append(response_entry)\n",
    "\n",
    "    return pd.DataFrame(responses)"
   ]
  },
  {
   "cell_type": "markdown",
   "id": "3da08f56",
   "metadata": {},
   "source": [
    "## Run Queries and Save Responses"
   ]
  },
  {
   "cell_type": "code",
   "execution_count": 6,
   "id": "64d0c778",
   "metadata": {},
   "outputs": [
    {
     "name": "stderr",
     "output_type": "stream",
     "text": [
      "Querying models: 100%|██████████| 5/5 [00:19<00:00,  3.89s/it]\n",
      "\n"
     ]
    },
    {
     "data": {
      "application/vnd.microsoft.datawrangler.viewer.v0+json": {
       "columns": [
        {
         "name": "index",
         "rawType": "int64",
         "type": "integer"
        },
        {
         "name": "index",
         "rawType": "int64",
         "type": "integer"
        },
        {
         "name": "category",
         "rawType": "object",
         "type": "string"
        },
        {
         "name": "question",
         "rawType": "object",
         "type": "string"
        },
        {
         "name": "ollama_response",
         "rawType": "object",
         "type": "string"
        }
       ],
       "conversionMethod": "pd.DataFrame",
       "ref": "29045900-b715-4689-ae10-ffb89679fbe8",
       "rows": [
        [
         "0",
         "1",
         "Heart Failure",
         "What are the common symptoms of heart failure?",
         "Shortness of breath, fatigue, swollen legs and ankles, coughing up pink, frothy mucus, weight gain or loss, fatigue, dizziness or lightheadedness, insomnia (due to fluid buildup in the lungs), and swelling."
        ],
        [
         "1",
         "2",
         "Heart Failure",
         "What medications are typically prescribed for heart failure?",
         "Commonly used medications include:\n\n1. Diuretics (e.g., furosemide) for fluid removal.\n2. ACE inhibitors or ARBs (angiotensin-converting enzyme blockers or angiotensin II receptor blockers) to reduce blood pressure and strain on the heart.\n3. Beta-blockers (e.g., carvedilol) to slow the heart rate and decrease workload.\n4. Vasodilators (e.g., hydralazine) to widen blood vessels and improve oxygen delivery to tissues.\n\nTreatment plan tailored by doctor."
        ],
        [
         "2",
         "3",
         "Cardiomyopathy",
         "What are the genetic causes of cardiomyopathy?",
         "Some common genetic causes of cardiomyopathy include:\n\n1. Familial Hypercholesterolemia (FH): Affects lipid metabolism.\n2. Hypertrophic Cardiomyopathy (HCM): Mutations in gene encoding cardiac muscle protein MYBPC3 or MYH7.\n3. Arrhythmogenic Right Ventricular Cardiomyopathy (ARVC): Mutations in desmosomal genes such as DSG2, DSAG, and PLN.\n4. Dilated Cardiomyopathy (DCM): Associated with mutations in gene encoding troponin T (TNNT2) or alpha-sarcoplasmic reticulum calcium-binding protein (CASQ2)\n5. Myofibrillogenesis disorders, e.g., Familial Giant Cell Cardiomyopathy.\n \nGenetic diagnoses can be made based on patient history, family screening, and genetic testing."
        ],
        [
         "3",
         "4",
         "Cardiomyopathy",
         "How is cardiomyopathy diagnosed?",
         "Diagnosis typically involves:\n\n1. Medical history and physical examination\n2. Electrophysiology studies (e.g., ECG, stress test)\n3. Imaging tests (e.g., echocardiogram, MRI or CT scan)\n4. Blood tests to evaluate liver enzyme levels and kidney function.\n\nMore advanced testing can be necessary: \n\n1. Cardiac MRI with late gadolinium enhancement\n2. Myocardial biopsy \n3. Genetic testing"
        ],
        [
         "4",
         "5",
         "Heart Failure",
         "What lifestyle changes can help manage heart failure?",
         "Lifestyle modifications that can help:\n\n1. Exercise regularly (e.g., walking, swimming); but start slow and progress gradually.\n2. Eat a healthy, balanced diet: 5 a day including fresh fruits, vegetables, whole grains; avoid salt-heavy or high-sodium foods.\n3. Maintain a low body mass index (BMI).\n4. Limit sodium intake to ~1,500 mg/day.\n5. Drink ample water; but be mindful of salt content in beverages.\n6. Avoid smoking and tobacco products.\n7. Manage stress through relaxation techniques.\n\nAdditional tips may be recommended by your healthcare provider:"
        ]
       ],
       "shape": {
        "columns": 4,
        "rows": 5
       }
      },
      "text/html": [
       "<div>\n",
       "<style scoped>\n",
       "    .dataframe tbody tr th:only-of-type {\n",
       "        vertical-align: middle;\n",
       "    }\n",
       "\n",
       "    .dataframe tbody tr th {\n",
       "        vertical-align: top;\n",
       "    }\n",
       "\n",
       "    .dataframe thead th {\n",
       "        text-align: right;\n",
       "    }\n",
       "</style>\n",
       "<table border=\"1\" class=\"dataframe\">\n",
       "  <thead>\n",
       "    <tr style=\"text-align: right;\">\n",
       "      <th></th>\n",
       "      <th>index</th>\n",
       "      <th>category</th>\n",
       "      <th>question</th>\n",
       "      <th>ollama_response</th>\n",
       "    </tr>\n",
       "  </thead>\n",
       "  <tbody>\n",
       "    <tr>\n",
       "      <th>0</th>\n",
       "      <td>1</td>\n",
       "      <td>Heart Failure</td>\n",
       "      <td>What are the common symptoms of heart failure?</td>\n",
       "      <td>Shortness of breath, fatigue, swollen legs and...</td>\n",
       "    </tr>\n",
       "    <tr>\n",
       "      <th>1</th>\n",
       "      <td>2</td>\n",
       "      <td>Heart Failure</td>\n",
       "      <td>What medications are typically prescribed for ...</td>\n",
       "      <td>Commonly used medications include:\\n\\n1. Diure...</td>\n",
       "    </tr>\n",
       "    <tr>\n",
       "      <th>2</th>\n",
       "      <td>3</td>\n",
       "      <td>Cardiomyopathy</td>\n",
       "      <td>What are the genetic causes of cardiomyopathy?</td>\n",
       "      <td>Some common genetic causes of cardiomyopathy i...</td>\n",
       "    </tr>\n",
       "    <tr>\n",
       "      <th>3</th>\n",
       "      <td>4</td>\n",
       "      <td>Cardiomyopathy</td>\n",
       "      <td>How is cardiomyopathy diagnosed?</td>\n",
       "      <td>Diagnosis typically involves:\\n\\n1. Medical hi...</td>\n",
       "    </tr>\n",
       "    <tr>\n",
       "      <th>4</th>\n",
       "      <td>5</td>\n",
       "      <td>Heart Failure</td>\n",
       "      <td>What lifestyle changes can help manage heart f...</td>\n",
       "      <td>Lifestyle modifications that can help:\\n\\n1. E...</td>\n",
       "    </tr>\n",
       "  </tbody>\n",
       "</table>\n",
       "</div>"
      ],
      "text/plain": [
       "   index        category                                           question  \\\n",
       "0      1   Heart Failure     What are the common symptoms of heart failure?   \n",
       "1      2   Heart Failure  What medications are typically prescribed for ...   \n",
       "2      3  Cardiomyopathy     What are the genetic causes of cardiomyopathy?   \n",
       "3      4  Cardiomyopathy                   How is cardiomyopathy diagnosed?   \n",
       "4      5   Heart Failure  What lifestyle changes can help manage heart f...   \n",
       "\n",
       "                                     ollama_response  \n",
       "0  Shortness of breath, fatigue, swollen legs and...  \n",
       "1  Commonly used medications include:\\n\\n1. Diure...  \n",
       "2  Some common genetic causes of cardiomyopathy i...  \n",
       "3  Diagnosis typically involves:\\n\\n1. Medical hi...  \n",
       "4  Lifestyle modifications that can help:\\n\\n1. E...  "
      ]
     },
     "execution_count": 6,
     "metadata": {},
     "output_type": "execute_result"
    }
   ],
   "source": [
    "query_models_chatlas(questions_df=questions_df, models_to_run=['ollama'])"
   ]
  },
  {
   "cell_type": "code",
   "execution_count": null,
   "id": "e7029c3a",
   "metadata": {},
   "outputs": [],
   "source": []
  }
 ],
 "metadata": {
  "kernelspec": {
   "display_name": ".venv",
   "language": "python",
   "name": "python3"
  },
  "language_info": {
   "codemirror_mode": {
    "name": "ipython",
    "version": 3
   },
   "file_extension": ".py",
   "mimetype": "text/x-python",
   "name": "python",
   "nbconvert_exporter": "python",
   "pygments_lexer": "ipython3",
   "version": "3.11.11"
  }
 },
 "nbformat": 4,
 "nbformat_minor": 5
}
