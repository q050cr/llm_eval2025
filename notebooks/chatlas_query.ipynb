{
 "cells": [
  {
   "cell_type": "markdown",
   "id": "e8fc24a2",
   "metadata": {},
   "source": [
    "# A Programmatic Evaluation of Large Language Models for Clinical Decision Support in Heart Failure and Cardiomyopathy Management\n"
   ]
  },
  {
   "cell_type": "markdown",
   "id": "9be923b5",
   "metadata": {},
   "source": [
    "---\n"
   ]
  },
  {
   "cell_type": "code",
   "execution_count": 119,
   "id": "44cdac14",
   "metadata": {},
   "outputs": [],
   "source": [
    "import os\n",
    "import pandas as pd\n",
    "from dotenv import load_dotenv\n",
    "from chatlas import ChatOpenAI, ChatGoogle, ChatPerplexity, ChatOllama, ChatGithub\n",
    "from tqdm import tqdm\n",
    "from datetime import datetime"
   ]
  },
  {
   "cell_type": "code",
   "execution_count": 108,
   "id": "d7beeba5",
   "metadata": {},
   "outputs": [],
   "source": [
    "# parameters\n",
    "n_queries = 3  # number of responses per model per question to assess consistency and variability"
   ]
  },
  {
   "cell_type": "markdown",
   "id": "0c40c215",
   "metadata": {},
   "source": [
    "## Load API Keys\n"
   ]
  },
  {
   "cell_type": "code",
   "execution_count": 109,
   "id": "3db3046a",
   "metadata": {},
   "outputs": [],
   "source": [
    "# Load environment variables from .env file\n",
    "load_dotenv()\n",
    "openai_api_key = os.getenv(\"OPENAI_API_KEY\")\n",
    "google_api_key = os.getenv(\"GOOGLE_API_KEY\")\n",
    "perplexity_api_key = os.getenv(\"PERPLEXITY_API_KEY\")\n",
    "github_pat = os.getenv(\"GITHUB_PAT\")"
   ]
  },
  {
   "cell_type": "markdown",
   "id": "0009687e",
   "metadata": {},
   "source": [
    "## Load Questions from CSV\n"
   ]
  },
  {
   "cell_type": "code",
   "execution_count": 110,
   "id": "78de82e1",
   "metadata": {},
   "outputs": [
    {
     "data": {
      "application/vnd.microsoft.datawrangler.viewer.v0+json": {
       "columns": [
        {
         "name": "index",
         "rawType": "int64",
         "type": "integer"
        },
        {
         "name": "index",
         "rawType": "int64",
         "type": "integer"
        },
        {
         "name": "category",
         "rawType": "object",
         "type": "string"
        },
        {
         "name": "question",
         "rawType": "object",
         "type": "string"
        },
        {
         "name": "select",
         "rawType": "object",
         "type": "string"
        }
       ],
       "conversionMethod": "pd.DataFrame",
       "ref": "0c162437-d106-41f4-b220-2f130a488065",
       "rows": [
        [
         "0",
         "1",
         "Heart Failure",
         "What are the common symptoms of heart failure?",
         "yes"
        ],
        [
         "1",
         "2",
         "Heart Failure",
         "What medications are typically prescribed for heart failure?",
         "yes"
        ],
        [
         "2",
         "3",
         "Cardiomyopathy",
         "What are the genetic causes of cardiomyopathy?",
         "yes"
        ],
        [
         "3",
         "4",
         "Cardiomyopathy",
         "How is cardiomyopathy diagnosed?",
         "yes"
        ],
        [
         "4",
         "5",
         "Heart Failure",
         "What lifestyle changes can help manage heart failure?",
         "yes"
        ]
       ],
       "shape": {
        "columns": 4,
        "rows": 5
       }
      },
      "text/html": [
       "<div>\n",
       "<style scoped>\n",
       "    .dataframe tbody tr th:only-of-type {\n",
       "        vertical-align: middle;\n",
       "    }\n",
       "\n",
       "    .dataframe tbody tr th {\n",
       "        vertical-align: top;\n",
       "    }\n",
       "\n",
       "    .dataframe thead th {\n",
       "        text-align: right;\n",
       "    }\n",
       "</style>\n",
       "<table border=\"1\" class=\"dataframe\">\n",
       "  <thead>\n",
       "    <tr style=\"text-align: right;\">\n",
       "      <th></th>\n",
       "      <th>index</th>\n",
       "      <th>category</th>\n",
       "      <th>question</th>\n",
       "      <th>select</th>\n",
       "    </tr>\n",
       "  </thead>\n",
       "  <tbody>\n",
       "    <tr>\n",
       "      <th>0</th>\n",
       "      <td>1</td>\n",
       "      <td>Heart Failure</td>\n",
       "      <td>What are the common symptoms of heart failure?</td>\n",
       "      <td>yes</td>\n",
       "    </tr>\n",
       "    <tr>\n",
       "      <th>1</th>\n",
       "      <td>2</td>\n",
       "      <td>Heart Failure</td>\n",
       "      <td>What medications are typically prescribed for ...</td>\n",
       "      <td>yes</td>\n",
       "    </tr>\n",
       "    <tr>\n",
       "      <th>2</th>\n",
       "      <td>3</td>\n",
       "      <td>Cardiomyopathy</td>\n",
       "      <td>What are the genetic causes of cardiomyopathy?</td>\n",
       "      <td>yes</td>\n",
       "    </tr>\n",
       "    <tr>\n",
       "      <th>3</th>\n",
       "      <td>4</td>\n",
       "      <td>Cardiomyopathy</td>\n",
       "      <td>How is cardiomyopathy diagnosed?</td>\n",
       "      <td>yes</td>\n",
       "    </tr>\n",
       "    <tr>\n",
       "      <th>4</th>\n",
       "      <td>5</td>\n",
       "      <td>Heart Failure</td>\n",
       "      <td>What lifestyle changes can help manage heart f...</td>\n",
       "      <td>yes</td>\n",
       "    </tr>\n",
       "  </tbody>\n",
       "</table>\n",
       "</div>"
      ],
      "text/plain": [
       "   index        category                                           question  \\\n",
       "0      1   Heart Failure     What are the common symptoms of heart failure?   \n",
       "1      2   Heart Failure  What medications are typically prescribed for ...   \n",
       "2      3  Cardiomyopathy     What are the genetic causes of cardiomyopathy?   \n",
       "3      4  Cardiomyopathy                   How is cardiomyopathy diagnosed?   \n",
       "4      5   Heart Failure  What lifestyle changes can help manage heart f...   \n",
       "\n",
       "  select  \n",
       "0    yes  \n",
       "1    yes  \n",
       "2    yes  \n",
       "3    yes  \n",
       "4    yes  "
      ]
     },
     "execution_count": 110,
     "metadata": {},
     "output_type": "execute_result"
    }
   ],
   "source": [
    "questions_df = pd.read_csv(\"./data/sample_questions.csv\")\n",
    "questions_df = questions_df[questions_df['select'] == 'yes']\n",
    "questions_df"
   ]
  },
  {
   "cell_type": "code",
   "execution_count": 111,
   "id": "d8ea973f",
   "metadata": {},
   "outputs": [
    {
     "data": {
      "application/vnd.microsoft.datawrangler.viewer.v0+json": {
       "columns": [
        {
         "name": "index",
         "rawType": "int64",
         "type": "integer"
        },
        {
         "name": "index",
         "rawType": "int64",
         "type": "integer"
        },
        {
         "name": "query_id",
         "rawType": "int64",
         "type": "integer"
        },
        {
         "name": "category",
         "rawType": "object",
         "type": "string"
        },
        {
         "name": "question",
         "rawType": "object",
         "type": "string"
        },
        {
         "name": "select",
         "rawType": "object",
         "type": "string"
        }
       ],
       "conversionMethod": "pd.DataFrame",
       "ref": "de0cfc4d-252b-4201-b2a8-190837fcbf9e",
       "rows": [
        [
         "0",
         "1",
         "1",
         "Heart Failure",
         "What are the common symptoms of heart failure?",
         "yes"
        ],
        [
         "1",
         "1",
         "2",
         "Heart Failure",
         "What are the common symptoms of heart failure?",
         "yes"
        ],
        [
         "2",
         "1",
         "3",
         "Heart Failure",
         "What are the common symptoms of heart failure?",
         "yes"
        ],
        [
         "3",
         "2",
         "1",
         "Heart Failure",
         "What medications are typically prescribed for heart failure?",
         "yes"
        ],
        [
         "4",
         "2",
         "2",
         "Heart Failure",
         "What medications are typically prescribed for heart failure?",
         "yes"
        ],
        [
         "5",
         "2",
         "3",
         "Heart Failure",
         "What medications are typically prescribed for heart failure?",
         "yes"
        ],
        [
         "6",
         "3",
         "1",
         "Cardiomyopathy",
         "What are the genetic causes of cardiomyopathy?",
         "yes"
        ],
        [
         "7",
         "3",
         "2",
         "Cardiomyopathy",
         "What are the genetic causes of cardiomyopathy?",
         "yes"
        ],
        [
         "8",
         "3",
         "3",
         "Cardiomyopathy",
         "What are the genetic causes of cardiomyopathy?",
         "yes"
        ],
        [
         "9",
         "4",
         "1",
         "Cardiomyopathy",
         "How is cardiomyopathy diagnosed?",
         "yes"
        ],
        [
         "10",
         "4",
         "2",
         "Cardiomyopathy",
         "How is cardiomyopathy diagnosed?",
         "yes"
        ],
        [
         "11",
         "4",
         "3",
         "Cardiomyopathy",
         "How is cardiomyopathy diagnosed?",
         "yes"
        ],
        [
         "12",
         "5",
         "1",
         "Heart Failure",
         "What lifestyle changes can help manage heart failure?",
         "yes"
        ],
        [
         "13",
         "5",
         "2",
         "Heart Failure",
         "What lifestyle changes can help manage heart failure?",
         "yes"
        ],
        [
         "14",
         "5",
         "3",
         "Heart Failure",
         "What lifestyle changes can help manage heart failure?",
         "yes"
        ]
       ],
       "shape": {
        "columns": 5,
        "rows": 15
       }
      },
      "text/html": [
       "<div>\n",
       "<style scoped>\n",
       "    .dataframe tbody tr th:only-of-type {\n",
       "        vertical-align: middle;\n",
       "    }\n",
       "\n",
       "    .dataframe tbody tr th {\n",
       "        vertical-align: top;\n",
       "    }\n",
       "\n",
       "    .dataframe thead th {\n",
       "        text-align: right;\n",
       "    }\n",
       "</style>\n",
       "<table border=\"1\" class=\"dataframe\">\n",
       "  <thead>\n",
       "    <tr style=\"text-align: right;\">\n",
       "      <th></th>\n",
       "      <th>index</th>\n",
       "      <th>query_id</th>\n",
       "      <th>category</th>\n",
       "      <th>question</th>\n",
       "      <th>select</th>\n",
       "    </tr>\n",
       "  </thead>\n",
       "  <tbody>\n",
       "    <tr>\n",
       "      <th>0</th>\n",
       "      <td>1</td>\n",
       "      <td>1</td>\n",
       "      <td>Heart Failure</td>\n",
       "      <td>What are the common symptoms of heart failure?</td>\n",
       "      <td>yes</td>\n",
       "    </tr>\n",
       "    <tr>\n",
       "      <th>1</th>\n",
       "      <td>1</td>\n",
       "      <td>2</td>\n",
       "      <td>Heart Failure</td>\n",
       "      <td>What are the common symptoms of heart failure?</td>\n",
       "      <td>yes</td>\n",
       "    </tr>\n",
       "    <tr>\n",
       "      <th>2</th>\n",
       "      <td>1</td>\n",
       "      <td>3</td>\n",
       "      <td>Heart Failure</td>\n",
       "      <td>What are the common symptoms of heart failure?</td>\n",
       "      <td>yes</td>\n",
       "    </tr>\n",
       "    <tr>\n",
       "      <th>3</th>\n",
       "      <td>2</td>\n",
       "      <td>1</td>\n",
       "      <td>Heart Failure</td>\n",
       "      <td>What medications are typically prescribed for ...</td>\n",
       "      <td>yes</td>\n",
       "    </tr>\n",
       "    <tr>\n",
       "      <th>4</th>\n",
       "      <td>2</td>\n",
       "      <td>2</td>\n",
       "      <td>Heart Failure</td>\n",
       "      <td>What medications are typically prescribed for ...</td>\n",
       "      <td>yes</td>\n",
       "    </tr>\n",
       "    <tr>\n",
       "      <th>5</th>\n",
       "      <td>2</td>\n",
       "      <td>3</td>\n",
       "      <td>Heart Failure</td>\n",
       "      <td>What medications are typically prescribed for ...</td>\n",
       "      <td>yes</td>\n",
       "    </tr>\n",
       "    <tr>\n",
       "      <th>6</th>\n",
       "      <td>3</td>\n",
       "      <td>1</td>\n",
       "      <td>Cardiomyopathy</td>\n",
       "      <td>What are the genetic causes of cardiomyopathy?</td>\n",
       "      <td>yes</td>\n",
       "    </tr>\n",
       "    <tr>\n",
       "      <th>7</th>\n",
       "      <td>3</td>\n",
       "      <td>2</td>\n",
       "      <td>Cardiomyopathy</td>\n",
       "      <td>What are the genetic causes of cardiomyopathy?</td>\n",
       "      <td>yes</td>\n",
       "    </tr>\n",
       "    <tr>\n",
       "      <th>8</th>\n",
       "      <td>3</td>\n",
       "      <td>3</td>\n",
       "      <td>Cardiomyopathy</td>\n",
       "      <td>What are the genetic causes of cardiomyopathy?</td>\n",
       "      <td>yes</td>\n",
       "    </tr>\n",
       "    <tr>\n",
       "      <th>9</th>\n",
       "      <td>4</td>\n",
       "      <td>1</td>\n",
       "      <td>Cardiomyopathy</td>\n",
       "      <td>How is cardiomyopathy diagnosed?</td>\n",
       "      <td>yes</td>\n",
       "    </tr>\n",
       "    <tr>\n",
       "      <th>10</th>\n",
       "      <td>4</td>\n",
       "      <td>2</td>\n",
       "      <td>Cardiomyopathy</td>\n",
       "      <td>How is cardiomyopathy diagnosed?</td>\n",
       "      <td>yes</td>\n",
       "    </tr>\n",
       "    <tr>\n",
       "      <th>11</th>\n",
       "      <td>4</td>\n",
       "      <td>3</td>\n",
       "      <td>Cardiomyopathy</td>\n",
       "      <td>How is cardiomyopathy diagnosed?</td>\n",
       "      <td>yes</td>\n",
       "    </tr>\n",
       "    <tr>\n",
       "      <th>12</th>\n",
       "      <td>5</td>\n",
       "      <td>1</td>\n",
       "      <td>Heart Failure</td>\n",
       "      <td>What lifestyle changes can help manage heart f...</td>\n",
       "      <td>yes</td>\n",
       "    </tr>\n",
       "    <tr>\n",
       "      <th>13</th>\n",
       "      <td>5</td>\n",
       "      <td>2</td>\n",
       "      <td>Heart Failure</td>\n",
       "      <td>What lifestyle changes can help manage heart f...</td>\n",
       "      <td>yes</td>\n",
       "    </tr>\n",
       "    <tr>\n",
       "      <th>14</th>\n",
       "      <td>5</td>\n",
       "      <td>3</td>\n",
       "      <td>Heart Failure</td>\n",
       "      <td>What lifestyle changes can help manage heart f...</td>\n",
       "      <td>yes</td>\n",
       "    </tr>\n",
       "  </tbody>\n",
       "</table>\n",
       "</div>"
      ],
      "text/plain": [
       "    index  query_id        category  \\\n",
       "0       1         1   Heart Failure   \n",
       "1       1         2   Heart Failure   \n",
       "2       1         3   Heart Failure   \n",
       "3       2         1   Heart Failure   \n",
       "4       2         2   Heart Failure   \n",
       "5       2         3   Heart Failure   \n",
       "6       3         1  Cardiomyopathy   \n",
       "7       3         2  Cardiomyopathy   \n",
       "8       3         3  Cardiomyopathy   \n",
       "9       4         1  Cardiomyopathy   \n",
       "10      4         2  Cardiomyopathy   \n",
       "11      4         3  Cardiomyopathy   \n",
       "12      5         1   Heart Failure   \n",
       "13      5         2   Heart Failure   \n",
       "14      5         3   Heart Failure   \n",
       "\n",
       "                                             question select  \n",
       "0      What are the common symptoms of heart failure?    yes  \n",
       "1      What are the common symptoms of heart failure?    yes  \n",
       "2      What are the common symptoms of heart failure?    yes  \n",
       "3   What medications are typically prescribed for ...    yes  \n",
       "4   What medications are typically prescribed for ...    yes  \n",
       "5   What medications are typically prescribed for ...    yes  \n",
       "6      What are the genetic causes of cardiomyopathy?    yes  \n",
       "7      What are the genetic causes of cardiomyopathy?    yes  \n",
       "8      What are the genetic causes of cardiomyopathy?    yes  \n",
       "9                    How is cardiomyopathy diagnosed?    yes  \n",
       "10                   How is cardiomyopathy diagnosed?    yes  \n",
       "11                   How is cardiomyopathy diagnosed?    yes  \n",
       "12  What lifestyle changes can help manage heart f...    yes  \n",
       "13  What lifestyle changes can help manage heart f...    yes  \n",
       "14  What lifestyle changes can help manage heart f...    yes  "
      ]
     },
     "execution_count": 111,
     "metadata": {},
     "output_type": "execute_result"
    }
   ],
   "source": [
    "# Repeat each question n_queries times\n",
    "questions_df = questions_df.loc[questions_df.index.repeat(\n",
    "    n_queries)].reset_index(drop=True)\n",
    "\n",
    "# Add query_id column to differentiate between repetitions\n",
    "questions_df['query_id'] = questions_df.groupby('index').cumcount() + 1\n",
    "\n",
    "# Reorder columns to place 'query_id' after 'index'\n",
    "cols = questions_df.columns.tolist()\n",
    "cols.insert(1, cols.pop(cols.index('query_id')))\n",
    "questions_df = questions_df[cols]\n",
    "questions_df"
   ]
  },
  {
   "cell_type": "markdown",
   "id": "abcc8abf",
   "metadata": {},
   "source": [
    "## Define Function to Query APIs\n"
   ]
  },
  {
   "cell_type": "code",
   "execution_count": 112,
   "id": "ed0a059f",
   "metadata": {},
   "outputs": [],
   "source": [
    "def initialize_model(model_name):\n",
    "    \"\"\"\n",
    "    Helper function to initialize a model based on the name and environment variable.\n",
    "    Returns a model instance or raises an informative error.\n",
    "    \"\"\"\n",
    "    system_prompt = \"You are a friendly but terse assistant.\"\n",
    "\n",
    "    if model_name == 'openai':\n",
    "        api_key = os.getenv('OPENAI_API_KEY')\n",
    "        if not api_key:\n",
    "            raise EnvironmentError(\"Missing OPENAI_API_KEY\")\n",
    "        # https://platform.openai.com/docs/models\n",
    "        return ChatOpenAI(model=\"gpt-4o\", system_prompt=system_prompt, api_key=api_key)\n",
    "\n",
    "    elif model_name == 'google':\n",
    "        api_key = os.getenv('GOOGLE_API_KEY')\n",
    "        if not api_key:\n",
    "            raise EnvironmentError(\"Missing GOOGLE_API_KEY\")\n",
    "        # https://aistudio.google.com/\n",
    "        return ChatGoogle(model=\"gemini-2.5-pro-preview-05-06\", system_prompt=system_prompt, api_key=api_key)\n",
    "\n",
    "    elif model_name == 'perplexity':\n",
    "        api_key = os.getenv('PERPLEXITY_API_KEY')\n",
    "        if not api_key:\n",
    "            raise EnvironmentError(\"Missing PERPLEXITY_API_KEY\")\n",
    "        # [\"sonar\", \"sonar-pro\", \"r1-1776\"], https://docs.perplexity.ai/models/model-cards\n",
    "        return ChatPerplexity(model=\"sonar\", system_prompt=system_prompt, api_key=api_key)\n",
    "\n",
    "    elif model_name == 'github':\n",
    "        api_key = os.getenv('GITHUB_PAT')\n",
    "        if not api_key:\n",
    "            raise EnvironmentError(\"Missing GITHUB_PAT\")\n",
    "        # https://aistudio.google.com/\n",
    "        return ChatGithub(model=\"gpt-4o\", system_prompt=system_prompt, api_key=api_key)\n",
    "\n",
    "    elif model_name == 'ollama':\n",
    "        return ChatOllama(model=\"llama3.2\", system_prompt=system_prompt)\n",
    "\n",
    "    else:\n",
    "        raise ValueError(f\"Unsupported model: {model_name}\")"
   ]
  },
  {
   "cell_type": "code",
   "execution_count": null,
   "id": "75075cc8",
   "metadata": {},
   "outputs": [],
   "source": [
    "\n",
    "def query_models_chatlas(questions_df, models_to_run=['openai', 'google', 'perplexity', 'github', 'ollama']):\n",
    "    \"\"\"\n",
    "    Query selected models using Chatlas and return a DataFrame with responses.\n",
    "\n",
    "    Args:\n",
    "        questions_df (pd.DataFrame): Must have 'index', 'category', 'question'.\n",
    "        models_to_run (list): Models to query. Options: 'openai', 'google', 'perplexity', 'github', 'ollama'.\n",
    "\n",
    "    Returns:\n",
    "        pd.DataFrame: Responses from each model for each question.\n",
    "    \"\"\"\n",
    "    responses = []\n",
    "\n",
    "    # Initialize selected models\n",
    "    model_instances = {}\n",
    "    for model in models_to_run:\n",
    "        try:\n",
    "            model_instances[model] = initialize_model(model)\n",
    "        except Exception as e:\n",
    "            print(f\"[Warning] Failed to initialize {model}: {e}\")\n",
    "            model_instances[model] = None\n",
    "\n",
    "    # Query each model\n",
    "    for _, row in tqdm(questions_df.iterrows(), total=len(questions_df), desc=\"Querying models\"):\n",
    "        question, category = row['question'], row['category']\n",
    "        response_entry = {\n",
    "            'index': row['index'],\n",
    "            'query_id': row['query_id'],\n",
    "            'category': category,\n",
    "            'question': question\n",
    "        }\n",
    "\n",
    "        for model_key in models_to_run:\n",
    "            instance = model_instances.get(model_key)\n",
    "            try:\n",
    "                if instance:\n",
    "                    response = instance.chat(question, echo=\"none\")\n",
    "                    response_entry[f'{model_key}_response'] = response.content\n",
    "                else:\n",
    "                    response_entry[f'{model_key}_response'] = \"Initialization failed\"\n",
    "            except Exception as e:\n",
    "                response_entry[f'{model_key}_response'] = f\"Error: {str(e)}\"\n",
    "\n",
    "        responses.append(response_entry)\n",
    "\n",
    "    return pd.DataFrame(responses)"
   ]
  },
  {
   "cell_type": "markdown",
   "id": "3da08f56",
   "metadata": {},
   "source": [
    "## Run Queries and Save Responses\n"
   ]
  },
  {
   "cell_type": "code",
   "execution_count": null,
   "id": "64d0c778",
   "metadata": {},
   "outputs": [
    {
     "name": "stderr",
     "output_type": "stream",
     "text": [
      "Querying models: 100%|██████████| 3/3 [02:26<00:00, 48.97s/it]\n"
     ]
    }
   ],
   "source": [
    "# short test\n",
    "# test_dat = questions_df[questions_df['query_id'] == 1].iloc[0:3]\n",
    "\n",
    "responses_df = query_models_chatlas(questions_df=questions_df, models_to_run=[\n",
    "                                    'openai', 'google', 'perplexity', 'github', 'ollama'])  # ['openai', 'google', 'perplexity', 'github', 'ollama']"
   ]
  },
  {
   "cell_type": "code",
   "execution_count": 54,
   "id": "9c828415",
   "metadata": {},
   "outputs": [
    {
     "data": {
      "application/vnd.microsoft.datawrangler.viewer.v0+json": {
       "columns": [
        {
         "name": "index",
         "rawType": "int64",
         "type": "integer"
        },
        {
         "name": "index",
         "rawType": "int64",
         "type": "integer"
        },
        {
         "name": "query_id",
         "rawType": "int64",
         "type": "integer"
        },
        {
         "name": "category",
         "rawType": "object",
         "type": "string"
        },
        {
         "name": "question",
         "rawType": "object",
         "type": "string"
        },
        {
         "name": "openai_response",
         "rawType": "object",
         "type": "string"
        },
        {
         "name": "google_response",
         "rawType": "object",
         "type": "string"
        },
        {
         "name": "perplexity_response",
         "rawType": "object",
         "type": "string"
        },
        {
         "name": "github_response",
         "rawType": "object",
         "type": "string"
        },
        {
         "name": "ollama_response",
         "rawType": "object",
         "type": "string"
        }
       ],
       "conversionMethod": "pd.DataFrame",
       "ref": "37f19fa4-d9de-4bb4-9766-6bf8e4b14246",
       "rows": [
        [
         "0",
         "1",
         "1",
         "Heart Failure",
         "What are the common symptoms of heart failure?",
         "Common symptoms of heart failure include:\n\n1. Shortness of breath, especially during physical activities or when lying flat.\n2. Fatigue and weakness.\n3. Swelling in the legs, ankles, and feet (edema).\n4. Rapid or irregular heartbeat.\n5. Persistent cough or wheezing with white or pink-tinged phlegm.\n6. Increased need to urinate at night.\n7. Swelling of the abdomen (ascites).\n8. Sudden weight gain from fluid retention.\n9. Lack of appetite and nausea.\n10. Difficulty concentrating or decreased alertness.\n\nIf you experience any of these symptoms, it's important to consult a healthcare professional.",
         "Common symptoms include:\n\n*   Shortness of breath\n*   Fatigue and weakness\n*   Swelling in legs, ankles, and feet\n*   Rapid or irregular heartbeat\n*   Persistent cough or wheezing\n*   Reduced ability to exercise\n*   Increased need to urinate at night\n*   Swelling of the abdomen (ascites)\n*   Lack of appetite and nausea\n*   Difficulty concentrating or decreased alertness\n\nSee a doctor if you have concerns.",
         "Common symptoms of heart failure typically develop gradually but can sometimes appear suddenly, especially after heart damage. The most frequent symptoms include:\n\n- **Shortness of breath**: This can occur during activity, at rest, or when lying down. It may worsen at night, causing you to wake up gasping for air, a condition known as paroxysmal nocturnal dyspnea[1][3][4][5].\n\n- **Fatigue and weakness**: Feeling tired most of the time, with reduced ability to exercise or perform daily activities. Even after resting, fatigue can persist[1][3][4][5].\n\n- **Swelling (edema)**: Particularly in the ankles, legs, and feet, caused by fluid buildup. The swelling may improve overnight and worsen during the day. Sometimes swelling can also affect the abdomen or liver area[3][4][5].\n\n- **Persistent cough or wheezing**: Often worse at night and sometimes producing mucus that may be tinged with blood[3][4][5].\n\n- **Palpitations**: Experiencing a pounding, fluttering, fast, or irregular heartbeat as the heart works harder[3][4][5].\n\n- **Other symptoms**: These can include feeling lightheaded or faint, loss of appetite, nausea, frequent urination at night, unexpected weight gain or loss, confusion, and difficulty concentrating[3][4][5].\n\nSome people with heart failure may also experience symptoms associated with fluid retention and reduced oxygen supply such as a bluish tint to lips or fingertips and abdominal bloating[4].\n\nBecause symptoms vary among individuals and some can be subtle or confused with other conditions, medical evaluation is recommended if these symptoms persist or worsen[3].\n\nIn summary, the hallmark signs of heart failure are breathlessness, chronic fatigue, fluid retention leading to swelling, and irregular heartbeat, often accompanied by other systemic symptoms related to poor heart function[1][3][4][5].",
         "Common symptoms of heart failure include:\n\n1. **Shortness of breath** (dyspnea), especially during physical activity or when lying down.\n2. **Fatigue** or weakness.\n3. **Swelling** (edema) in the legs, ankles, feet, or abdomen.\n4. **Rapid or irregular heartbeat** (palpitations).\n5. **Persistent cough** or wheezing, often with white or pink frothy mucus.\n6. **Difficulty concentrating** or confusion.\n7. **Sudden weight gain** from fluid retention.\n8. **Decreased exercise tolerance** or feeling easily exhausted.\n9. **Chest pain** (if caused by an underlying heart issue).\n\nIf you or someone else is experiencing severe symptoms, seek medical attention immediately.",
         "Common symptoms include:\n\n- Swelling in legs, ankles, and feet\n- Shortness of breath (dyspnea)\n- Fatigue or weakness\n- Coughing up pink, frothy mucus\n- Rapid weight gain\n- Palpitations or irregular heartbeat\n- Decreased urine output"
        ],
        [
         "1",
         "2",
         "1",
         "Heart Failure",
         "What medications are typically prescribed for heart failure?",
         "Medications commonly prescribed for heart failure include:\n\n1. **ACE inhibitors** (e.g., lisinopril, enalapril): Help relax blood vessels and reduce the workload on the heart.\n2. **Angiotensin II receptor blockers (ARBs)** (e.g., losartan, valsartan): Alternative for those who can't tolerate ACE inhibitors.\n3. **Beta-blockers** (e.g., metoprolol, carvedilol): Slow the heart rate and reduce blood pressure, improving heart function.\n4. **Diuretics** (e.g., furosemide, spironolactone): Help reduce fluid buildup by increasing urine output.\n5. **Aldosterone antagonists** (e.g., spironolactone, eplerenone): Help prevent fluid retention.\n6. **SGLT2 inhibitors** (e.g., empagliflozin, dapagliflozin): Originally used for diabetes, also found to benefit heart failure patients.\n7. **Hydralazine and isosorbide dinitrate**: Combined use for blood vessel relaxation and improving blood flow.\n8. **Digitalis (digoxin)**: Helps increase the strength of heart muscle contractions.\n\nThese medications are typically used in combination and tailored to the individual patient's needs. Always follow a healthcare provider's guidance when managing heart failure.",
         "Commonly prescribed medications include:\n\n*   **ACE inhibitors** (e.g., lisinopril, enalapril)\n*   **ARBs** (Angiotensin II Receptor Blockers, e.g., losartan, valsartan)\n*   **Beta-blockers** (e.g., metoprolol, carvedilol)\n*   **Diuretics** (\"water pills,\" e.g., furosemide, hydrochlorothiazide)\n*   **Aldosterone antagonists** (e.g., spironolactone, eplerenone)\n*   **ARNIs** (Angiotensin Receptor-Neprilysin Inhibitors, e.g., sacubitril/valsartan)\n*   **SGLT2 inhibitors** (e.g., dapagliflozin, empagliflozin)\n*   **Digoxin**\n*   **Ivabradine**\n*   **Hydralazine and nitrates** (often used together)\n\nThe specific medications depend on the type and severity of heart failure.",
         "Medications typically prescribed for heart failure aim to improve heart function, relieve symptoms, and reduce the risk of complications. These medications fall into several main classes:\n\n**1. ACE Inhibitors (Angiotensin-Converting Enzyme Inhibitors):**  \n- Help the heart pump better by relaxing blood vessels, lowering blood pressure, and reducing workload on the heart.  \n- Examples include captopril and moexipril[1][2].\n\n**2. Angiotensin II Receptor Blockers (ARBs):**  \n- Alternative to ACE inhibitors, they dilate blood vessels and improve blood flow.  \n- Common ARBs include candesartan and valsartan[1][2].\n\n**3. ARNIs (Angiotensin Receptor-Neprilysin Inhibitors):**  \n- Used for severe heart failure with reduced ejection fraction; combined drugs like sacubitril-valsartan (Entresto®) lower blood pressure and improve outcomes[2].\n\n**4. Beta Blockers:**  \n- Slow the heart rate, reduce blood pressure, lower workload on the heart, and help prevent worsening of heart failure.  \n- Common beta blockers with strong evidence for heart failure include bisoprolol (Zebeta), carvedilol (Coreg), and metoprolol succinate (Toprol XL)[1][2][3][4].\n\n**5. Diuretics (\"Water Pills\"):**  \n- Help remove excess fluid buildup, reducing swelling and shortness of breath.  \n- Includes loop diuretics (e.g., furosemide) and potassium-sparing diuretics, also called aldosterone antagonists like spironolactone (Aldactone) and eplerenone (Inspra), which also improve heart function[1][3].\n\n**6. Sodium-Glucose Cotransporter-2 (SGLT2) Inhibitors:**  \n- Originally diabetes drugs that also reduce risk of hospitalization and death in heart failure patients, even without diabetes.  \n- Examples include dapagliflozin (Farxiga) and empagliflozin (Jardiance)[3].\n\n**7. Digoxin:**  \n- Helps the heart pump stronger and slows the heart rate; often prescribed for those with arrhythmias such as atrial fibrillation[3][4].\n\n**8. Vasodilators (e.g., Hydralazine and Isosorbide Dinitrate):**  \n- Relax blood vessels, reduce heart workload, and may be used when ACE inhibitors or ARBs are not tolerated[3][4].\n\n**9. Other Medications:**  \n- Antiplatelet drugs like aspirin or clopidogrel (Plavix) to prevent blood clots, and anticoagulants like warfarin for those at higher clot risk.  \n- Calcium channel blockers and statins may be used as needed for coexisting conditions[4].\n\nThis regimen is tailored by healthcare providers based on the type and severity of heart failure and individual patient factors[1][2][3][4].",
         "Medications commonly prescribed for heart failure aim to improve heart function, reduce symptoms, and prevent progression. These include:\n\n1. **Angiotensin-converting enzyme (ACE) inhibitors** – e.g., enalapril, lisinopril.  \n   - Help relax blood vessels and reduce workload on the heart.  \n\n2. **Angiotensin II receptor blockers (ARBs)** – e.g., losartan, valsartan.\n   - Used as an alternative for patients who can't tolerate ACE inhibitors.  \n\n3. **Beta-blockers** – e.g., metoprolol, carvedilol.  \n   - Slow the heart rate and reduce blood pressure to improve heart function.  \n\n4. **Diuretics** – e.g., furosemide, spironolactone.  \n   - Help reduce fluid buildup and swelling (edema).  \n\n5. **Aldosterone antagonists** – e.g., spironolactone, eplerenone.  \n   - Reduce fluid retention and lower blood pressure.  \n\n6. **Angiotensin receptor-neprilysin inhibitors (ARNIs)** – e.g., sacubitril/valsartan.  \n   - A newer class that improves heart efficiency.  \n\n7. **SGLT2 inhibitors** – e.g., dapagliflozin, empagliflozin.  \n   - Initially developed for diabetes but now shown to improve heart failure outcomes.  \n\n8. **Hydralazine with isosorbide dinitrate** – Often used in certain populations, such as Black patients.  \n\n9. **Digoxin** – May help improve symptoms and control heart rhythm.  \n\nAlways take medications as prescribed and consult a healthcare provider about side effects or adjustments.",
         "Typically prescribed:\n\n1. Diuretics (e.g., furosemide) to reduce fluid buildup.\n2. ACE inhibitors (e.g., lisinopril, enalapril) or ARBs (angiotensin receptor blockers) to improve heart function and lower blood pressure.\n3. Beta-blockers (e.g., metoprolol, carvedilol) to slow the heart rate and reduce stress on the heart.\n4. Hydralazine and isosorbide dinitrate (for mild to moderate symptoms).\n5. Nitrates (e.g., nitroglycerin) to alleviate shortness of breath and angina.\n6. Aldosterone antagonists (e.g., spironolactone, eplerenone) for severe heart failure.\n7. Anti-arrhythmics or anti-coagulants as needed.\n\nDosage and combination may vary depending on individual condition."
        ],
        [
         "2",
         "3",
         "1",
         "Cardiomyopathy",
         "What are the genetic causes of cardiomyopathy?",
         "Genetic causes of cardiomyopathy can vary depending on the specific type of the condition. Common genetic causes include:\n\n1. **Hypertrophic Cardiomyopathy (HCM):** Often caused by mutations in genes encoding sarcomeric proteins, such as MYH7, MYBPC3, TNNT2, and TNNI3.\n\n2. **Dilated Cardiomyopathy (DCM):** Can result from mutations in a variety of genes, including those that encode structural proteins like TTN (titin), LMNA (lamin A/C), and MYH7.\n\n3. **Arrhythmogenic Right Ventricular Cardiomyopathy (ARVC):** Frequently linked to mutations in genes encoding desmosomal proteins, such as PKP2, DSP, and DSG2.\n\n4. **Restrictive Cardiomyopathy (RCM):** Less commonly genetic, but can involve mutations in sarcomere and other structural protein genes, such as TNNI3 and MYH7.\n\n5. **Left Ventricular Noncompaction (LVNC):** May be associated with mutations in a variety of genes, including those related to sarcomeric proteins and mitochondrial function.\n\nGenetic testing and family history analysis is often used to identify specific mutations that may contribute to cardiomyopathy in affected individuals.",
         "Genetic causes of cardiomyopathy often involve mutations in genes responsible for heart muscle proteins.\n\nKey gene mutations are associated with:\n\n*   **Hypertrophic Cardiomyopathy (HCM):** Often genes for sarcomere proteins (e.g., *MYH7*, *MYBPC3*, *TNNT2*, *TNNI3*).\n*   **Dilated Cardiomyopathy (DCM):** Can involve genes for cytoskeletal proteins (e.g., *TTN*, *LMNA*), sarcomeric proteins, or ion channels.\n*   **Arrhythmogenic Cardiomyopathy (ACM/ARVC):** Frequently genes for desmosomal proteins (e.g., *PKP2*, *DSP*, *DSG2*, *DSC2*, *JUP*).\n*   **Restrictive Cardiomyopathy (RCM):** Some forms have genetic links, including mutations in sarcomeric genes (e.g., *TNNI3*) or genes causing amyloidosis (e.g., *TTR*).\n*   **Left Ventricular Non-compaction (LVNC):** Genes involved in sarcomere structure and myocardial development.\n\nGenetic testing can help identify specific mutations.",
         "Cardiomyopathies have several genetic causes, depending on the type. Here are some key genetic factors:\n\n- **Dilated Cardiomyopathy (DCM):**  \n  - Inherited in autosomal dominant (80-90%), autosomal recessive, or X-linked patterns[1][2].\n  - Over 50 genes implicated, affecting various heart muscle functions[2].\n\n- **Hypertrophic Cardiomyopathy (HCM):**  \n  - Primarily autosomal dominant inheritance, with genes like *MYH7*, *MYBPC3*, and *TNNT2* being common causes[3][4].\n\n- **Restrictive Cardiomyopathy:**  \n  - Autosomal dominant inheritance, with *TNNI3* being a common causative gene[5].\n\n- **Left Ventricular Non-Compaction (LVNC):**  \n  - Often inherited in autosomal dominant (70%) or X-linked (30%) patterns[3].\n\nThese genetic factors affect the structure and function of heart muscle cells, leading to various forms of cardiomyopathy.",
         "Cardiomyopathy, a disease of the heart muscle, often has genetic origins. The type of cardiomyopathy influences which genetic mutations may be involved. Here are some of the key genetic causes for each type:\n\n### 1. **Hypertrophic Cardiomyopathy (HCM)**  \n   - Caused by mutations in genes responsible for sarcomere proteins (the heart's contractile apparatus).  \n   - Common genes:  \n     - **MYH7** (beta-myosin heavy chain)  \n     - **MYBPC3** (myosin-binding protein C)  \n     - **TNNT2** (troponin T)  \n     - **TNNI3** (troponin I)  \n\n### 2. **Dilated Cardiomyopathy (DCM)**  \n   - May result from mutations in genes related to the heart's cytoskeleton or contractile proteins.  \n   - Common genes:  \n     - **TTN** (titin)  \n     - **LMNA** (lamin A/C)  \n     - **MYH7** (beta-myosin heavy chain)  \n     - **SCN5A** (sodium channel)  \n\n### 3. **Arrhythmogenic Right Ventricular Cardiomyopathy (ARVC)**  \n   - Typically caused by mutations in genes involved in desmosomes (structures that connect heart muscle cells).  \n   - Common genes:  \n     - **PKP2** (plakophilin-2)  \n     - **DSP** (desmoplakin)  \n     - **DSG2** (desmoglein-2)  \n     - **JUP** (junction plakoglobin)  \n\n### 4. **Restrictive Cardiomyopathy (RCM)**  \n   - Often associated with mutations in sarcomere or other structural proteins.  \n   - Common genes:  \n     - **TNNI3** (troponin I)  \n     - **TNNT2** (troponin T)  \n     - **MYH7** (beta-myosin heavy chain)  \n\n### 5. **LV Noncompaction Cardiomyopathy (LVNC)**  \n   - Associated with mutations in genes related to myocardial development.  \n   - Common genes:  \n     - **TTN** (titin)  \n     - **MYH7** (beta-myosin heavy chain)  \n     - **TNNI3** (troponin I)  \n     - **LMNA** (lamin A/C)  \n\n### Hereditary Patterns:  \n   Most genetic cardiomyopathies are inherited in an **autosomal dominant** pattern, although some (e.g., certain metabolic or mitochondrial causes) may follow other patterns, like autosomal recessive or X-linked inheritance.\n\nGenetic testing and counseling are key to understanding and managing inherited cardiomyopathies. If there's a family history, testing relatives may help identify at-risk individuals.",
         "There are several genetic causes of cardiomyopathy:\n\n1. Dilated Cardiomyopathy: mutations in genes like TNNI3, TTN, MYBPC3, and MYH7 affecting sarcomere structure.\n2. Hypertrophic Cardiomyopathy (HCM): mutations in genes like MYBPC3, MYH6, TNNT2, and ACTN2 affecting cardiac muscle contraction.\n3. Arrhythmogenic Right Ventricular Cardiomyopathy (ARVC): mutations in genes like DSG2, DES, PKP2, and PLN affecting cardiac structure and ion channels.\n4. Restrictive Cardiomyopathy: conditions like Tamidirectional disease gene mutations or systemic diseases like amyloidosis can cause restrictive phenotype.\n5. TTN-linked cardiomyopathy: Mutations in the MYBPC3 (cardiac myosin-binding protein C), MYH6 (myosin heavy chain 6), and MYL14 (myosin light chain 4) genes causing hypertrophic or dilated features.\n\nGenetic predisposition is an estimated 20-50% of cases, while the role of genetic factors is still unclear in many cases."
        ]
       ],
       "shape": {
        "columns": 9,
        "rows": 3
       }
      },
      "text/html": [
       "<div>\n",
       "<style scoped>\n",
       "    .dataframe tbody tr th:only-of-type {\n",
       "        vertical-align: middle;\n",
       "    }\n",
       "\n",
       "    .dataframe tbody tr th {\n",
       "        vertical-align: top;\n",
       "    }\n",
       "\n",
       "    .dataframe thead th {\n",
       "        text-align: right;\n",
       "    }\n",
       "</style>\n",
       "<table border=\"1\" class=\"dataframe\">\n",
       "  <thead>\n",
       "    <tr style=\"text-align: right;\">\n",
       "      <th></th>\n",
       "      <th>index</th>\n",
       "      <th>query_id</th>\n",
       "      <th>category</th>\n",
       "      <th>question</th>\n",
       "      <th>openai_response</th>\n",
       "      <th>google_response</th>\n",
       "      <th>perplexity_response</th>\n",
       "      <th>github_response</th>\n",
       "      <th>ollama_response</th>\n",
       "    </tr>\n",
       "  </thead>\n",
       "  <tbody>\n",
       "    <tr>\n",
       "      <th>0</th>\n",
       "      <td>1</td>\n",
       "      <td>1</td>\n",
       "      <td>Heart Failure</td>\n",
       "      <td>What are the common symptoms of heart failure?</td>\n",
       "      <td>Common symptoms of heart failure include:\\n\\n1...</td>\n",
       "      <td>Common symptoms include:\\n\\n*   Shortness of b...</td>\n",
       "      <td>Common symptoms of heart failure typically dev...</td>\n",
       "      <td>Common symptoms of heart failure include:\\n\\n1...</td>\n",
       "      <td>Common symptoms include:\\n\\n- Swelling in legs...</td>\n",
       "    </tr>\n",
       "    <tr>\n",
       "      <th>1</th>\n",
       "      <td>2</td>\n",
       "      <td>1</td>\n",
       "      <td>Heart Failure</td>\n",
       "      <td>What medications are typically prescribed for ...</td>\n",
       "      <td>Medications commonly prescribed for heart fail...</td>\n",
       "      <td>Commonly prescribed medications include:\\n\\n* ...</td>\n",
       "      <td>Medications typically prescribed for heart fai...</td>\n",
       "      <td>Medications commonly prescribed for heart fail...</td>\n",
       "      <td>Typically prescribed:\\n\\n1. Diuretics (e.g., f...</td>\n",
       "    </tr>\n",
       "    <tr>\n",
       "      <th>2</th>\n",
       "      <td>3</td>\n",
       "      <td>1</td>\n",
       "      <td>Cardiomyopathy</td>\n",
       "      <td>What are the genetic causes of cardiomyopathy?</td>\n",
       "      <td>Genetic causes of cardiomyopathy can vary depe...</td>\n",
       "      <td>Genetic causes of cardiomyopathy often involve...</td>\n",
       "      <td>Cardiomyopathies have several genetic causes, ...</td>\n",
       "      <td>Cardiomyopathy, a disease of the heart muscle,...</td>\n",
       "      <td>There are several genetic causes of cardiomyop...</td>\n",
       "    </tr>\n",
       "  </tbody>\n",
       "</table>\n",
       "</div>"
      ],
      "text/plain": [
       "   index  query_id        category  \\\n",
       "0      1         1   Heart Failure   \n",
       "1      2         1   Heart Failure   \n",
       "2      3         1  Cardiomyopathy   \n",
       "\n",
       "                                            question  \\\n",
       "0     What are the common symptoms of heart failure?   \n",
       "1  What medications are typically prescribed for ...   \n",
       "2     What are the genetic causes of cardiomyopathy?   \n",
       "\n",
       "                                     openai_response  \\\n",
       "0  Common symptoms of heart failure include:\\n\\n1...   \n",
       "1  Medications commonly prescribed for heart fail...   \n",
       "2  Genetic causes of cardiomyopathy can vary depe...   \n",
       "\n",
       "                                     google_response  \\\n",
       "0  Common symptoms include:\\n\\n*   Shortness of b...   \n",
       "1  Commonly prescribed medications include:\\n\\n* ...   \n",
       "2  Genetic causes of cardiomyopathy often involve...   \n",
       "\n",
       "                                 perplexity_response  \\\n",
       "0  Common symptoms of heart failure typically dev...   \n",
       "1  Medications typically prescribed for heart fai...   \n",
       "2  Cardiomyopathies have several genetic causes, ...   \n",
       "\n",
       "                                     github_response  \\\n",
       "0  Common symptoms of heart failure include:\\n\\n1...   \n",
       "1  Medications commonly prescribed for heart fail...   \n",
       "2  Cardiomyopathy, a disease of the heart muscle,...   \n",
       "\n",
       "                                     ollama_response  \n",
       "0  Common symptoms include:\\n\\n- Swelling in legs...  \n",
       "1  Typically prescribed:\\n\\n1. Diuretics (e.g., f...  \n",
       "2  There are several genetic causes of cardiomyop...  "
      ]
     },
     "execution_count": 115,
     "metadata": {},
     "output_type": "execute_result"
    }
   ],
   "source": [
    "responses_df"
   ]
  },
  {
   "cell_type": "code",
   "execution_count": null,
   "id": "e8a6b5ad",
   "metadata": {},
   "outputs": [
    {
     "name": "stdout",
     "output_type": "stream",
     "text": [
      "Responses saved to ./outputs/responses_20250513_111615.csv\n"
     ]
    }
   ],
   "source": [
    "timestamp = datetime.now().strftime(\"%Y%m%d_%H%M%S\")\n",
    "\n",
    "# output file path\n",
    "output_file = f\"./outputs/chats/responses_{timestamp}.csv\"\n",
    "responses_df.to_csv(output_file, index=False)\n",
    "\n",
    "print(f\"Responses saved to {output_file}\")"
   ]
  },
  {
   "cell_type": "code",
   "execution_count": null,
   "id": "780ec46a",
   "metadata": {},
   "outputs": [],
   "source": []
  }
 ],
 "metadata": {
  "kernelspec": {
   "display_name": ".venv",
   "language": "python",
   "name": "python3"
  },
  "language_info": {
   "codemirror_mode": {
    "name": "ipython",
    "version": 3
   },
   "file_extension": ".py",
   "mimetype": "text/x-python",
   "name": "python",
   "nbconvert_exporter": "python",
   "pygments_lexer": "ipython3",
   "version": "3.11.11"
  }
 },
 "nbformat": 4,
 "nbformat_minor": 5
}
