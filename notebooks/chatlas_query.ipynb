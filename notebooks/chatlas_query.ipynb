{
 "cells": [
  {
   "cell_type": "markdown",
   "id": "e8fc24a2",
   "metadata": {},
   "source": [
    "# A Programmatic Evaluation of Large Language Models for Clinical Decision Support in Heart Failure and Cardiomyopathy Management\n"
   ]
  },
  {
   "cell_type": "markdown",
   "id": "9be923b5",
   "metadata": {},
   "source": [
    "---\n"
   ]
  },
  {
   "cell_type": "code",
   "execution_count": 40,
   "id": "44cdac14",
   "metadata": {},
   "outputs": [],
   "source": [
    "import os\n",
    "import pandas as pd\n",
    "from dotenv import load_dotenv\n",
    "from chatlas import ChatOpenAI, ChatGoogle, ChatPerplexity, ChatOllama, ChatGithub\n",
    "from tqdm import tqdm"
   ]
  },
  {
   "cell_type": "code",
   "execution_count": 41,
   "id": "d7beeba5",
   "metadata": {},
   "outputs": [],
   "source": [
    "# parameters\n",
    "n_queries = 3  # number of responses per model per question to assess consistency and variability"
   ]
  },
  {
   "cell_type": "markdown",
   "id": "0c40c215",
   "metadata": {},
   "source": [
    "## Load API Keys\n"
   ]
  },
  {
   "cell_type": "code",
   "execution_count": 42,
   "id": "3db3046a",
   "metadata": {},
   "outputs": [],
   "source": [
    "# Load environment variables from .env file\n",
    "load_dotenv()\n",
    "openai_api_key = os.getenv(\"OPENAI_API_KEY\")\n",
    "google_api_key = os.getenv(\"GOOGLE_API_KEY\")\n",
    "perplexity_api_key = os.getenv(\"PERPLEXITY_API_KEY\")\n",
    "github_pat = os.getenv(\"GITHUB_PAT\")"
   ]
  },
  {
   "cell_type": "markdown",
   "id": "0009687e",
   "metadata": {},
   "source": [
    "## Load Questions from CSV\n"
   ]
  },
  {
   "cell_type": "code",
   "execution_count": 43,
   "id": "78de82e1",
   "metadata": {},
   "outputs": [
    {
     "data": {
      "application/vnd.microsoft.datawrangler.viewer.v0+json": {
       "columns": [
        {
         "name": "index",
         "rawType": "int64",
         "type": "integer"
        },
        {
         "name": "index",
         "rawType": "int64",
         "type": "integer"
        },
        {
         "name": "category",
         "rawType": "object",
         "type": "string"
        },
        {
         "name": "question",
         "rawType": "object",
         "type": "string"
        },
        {
         "name": "select",
         "rawType": "object",
         "type": "string"
        }
       ],
       "conversionMethod": "pd.DataFrame",
       "ref": "746b8f88-d161-4ac0-9e48-6d9c5469efd6",
       "rows": [
        [
         "0",
         "1",
         "Heart Failure",
         "What are the common symptoms of heart failure?",
         "yes"
        ],
        [
         "1",
         "2",
         "Heart Failure",
         "What medications are typically prescribed for heart failure?",
         "yes"
        ],
        [
         "2",
         "3",
         "Cardiomyopathy",
         "What are the genetic causes of cardiomyopathy?",
         "yes"
        ],
        [
         "3",
         "4",
         "Cardiomyopathy",
         "How is cardiomyopathy diagnosed?",
         "yes"
        ],
        [
         "4",
         "5",
         "Heart Failure",
         "What lifestyle changes can help manage heart failure?",
         "yes"
        ]
       ],
       "shape": {
        "columns": 4,
        "rows": 5
       }
      },
      "text/html": [
       "<div>\n",
       "<style scoped>\n",
       "    .dataframe tbody tr th:only-of-type {\n",
       "        vertical-align: middle;\n",
       "    }\n",
       "\n",
       "    .dataframe tbody tr th {\n",
       "        vertical-align: top;\n",
       "    }\n",
       "\n",
       "    .dataframe thead th {\n",
       "        text-align: right;\n",
       "    }\n",
       "</style>\n",
       "<table border=\"1\" class=\"dataframe\">\n",
       "  <thead>\n",
       "    <tr style=\"text-align: right;\">\n",
       "      <th></th>\n",
       "      <th>index</th>\n",
       "      <th>category</th>\n",
       "      <th>question</th>\n",
       "      <th>select</th>\n",
       "    </tr>\n",
       "  </thead>\n",
       "  <tbody>\n",
       "    <tr>\n",
       "      <th>0</th>\n",
       "      <td>1</td>\n",
       "      <td>Heart Failure</td>\n",
       "      <td>What are the common symptoms of heart failure?</td>\n",
       "      <td>yes</td>\n",
       "    </tr>\n",
       "    <tr>\n",
       "      <th>1</th>\n",
       "      <td>2</td>\n",
       "      <td>Heart Failure</td>\n",
       "      <td>What medications are typically prescribed for ...</td>\n",
       "      <td>yes</td>\n",
       "    </tr>\n",
       "    <tr>\n",
       "      <th>2</th>\n",
       "      <td>3</td>\n",
       "      <td>Cardiomyopathy</td>\n",
       "      <td>What are the genetic causes of cardiomyopathy?</td>\n",
       "      <td>yes</td>\n",
       "    </tr>\n",
       "    <tr>\n",
       "      <th>3</th>\n",
       "      <td>4</td>\n",
       "      <td>Cardiomyopathy</td>\n",
       "      <td>How is cardiomyopathy diagnosed?</td>\n",
       "      <td>yes</td>\n",
       "    </tr>\n",
       "    <tr>\n",
       "      <th>4</th>\n",
       "      <td>5</td>\n",
       "      <td>Heart Failure</td>\n",
       "      <td>What lifestyle changes can help manage heart f...</td>\n",
       "      <td>yes</td>\n",
       "    </tr>\n",
       "  </tbody>\n",
       "</table>\n",
       "</div>"
      ],
      "text/plain": [
       "   index        category                                           question  \\\n",
       "0      1   Heart Failure     What are the common symptoms of heart failure?   \n",
       "1      2   Heart Failure  What medications are typically prescribed for ...   \n",
       "2      3  Cardiomyopathy     What are the genetic causes of cardiomyopathy?   \n",
       "3      4  Cardiomyopathy                   How is cardiomyopathy diagnosed?   \n",
       "4      5   Heart Failure  What lifestyle changes can help manage heart f...   \n",
       "\n",
       "  select  \n",
       "0    yes  \n",
       "1    yes  \n",
       "2    yes  \n",
       "3    yes  \n",
       "4    yes  "
      ]
     },
     "execution_count": 43,
     "metadata": {},
     "output_type": "execute_result"
    }
   ],
   "source": [
    "questions_df = pd.read_csv(\"./data/sample_questions.csv\")\n",
    "questions_df = questions_df[questions_df['select'] == 'yes']\n",
    "questions_df"
   ]
  },
  {
   "cell_type": "code",
   "execution_count": 44,
   "id": "d8ea973f",
   "metadata": {},
   "outputs": [
    {
     "data": {
      "application/vnd.microsoft.datawrangler.viewer.v0+json": {
       "columns": [
        {
         "name": "index",
         "rawType": "int64",
         "type": "integer"
        },
        {
         "name": "index",
         "rawType": "int64",
         "type": "integer"
        },
        {
         "name": "query_id",
         "rawType": "int64",
         "type": "integer"
        },
        {
         "name": "category",
         "rawType": "object",
         "type": "string"
        },
        {
         "name": "question",
         "rawType": "object",
         "type": "string"
        },
        {
         "name": "select",
         "rawType": "object",
         "type": "string"
        }
       ],
       "conversionMethod": "pd.DataFrame",
       "ref": "5efd4355-b043-42d3-b058-d15483f91bee",
       "rows": [
        [
         "0",
         "1",
         "1",
         "Heart Failure",
         "What are the common symptoms of heart failure?",
         "yes"
        ],
        [
         "1",
         "1",
         "2",
         "Heart Failure",
         "What are the common symptoms of heart failure?",
         "yes"
        ],
        [
         "2",
         "1",
         "3",
         "Heart Failure",
         "What are the common symptoms of heart failure?",
         "yes"
        ],
        [
         "3",
         "2",
         "1",
         "Heart Failure",
         "What medications are typically prescribed for heart failure?",
         "yes"
        ],
        [
         "4",
         "2",
         "2",
         "Heart Failure",
         "What medications are typically prescribed for heart failure?",
         "yes"
        ],
        [
         "5",
         "2",
         "3",
         "Heart Failure",
         "What medications are typically prescribed for heart failure?",
         "yes"
        ],
        [
         "6",
         "3",
         "1",
         "Cardiomyopathy",
         "What are the genetic causes of cardiomyopathy?",
         "yes"
        ],
        [
         "7",
         "3",
         "2",
         "Cardiomyopathy",
         "What are the genetic causes of cardiomyopathy?",
         "yes"
        ],
        [
         "8",
         "3",
         "3",
         "Cardiomyopathy",
         "What are the genetic causes of cardiomyopathy?",
         "yes"
        ],
        [
         "9",
         "4",
         "1",
         "Cardiomyopathy",
         "How is cardiomyopathy diagnosed?",
         "yes"
        ],
        [
         "10",
         "4",
         "2",
         "Cardiomyopathy",
         "How is cardiomyopathy diagnosed?",
         "yes"
        ],
        [
         "11",
         "4",
         "3",
         "Cardiomyopathy",
         "How is cardiomyopathy diagnosed?",
         "yes"
        ],
        [
         "12",
         "5",
         "1",
         "Heart Failure",
         "What lifestyle changes can help manage heart failure?",
         "yes"
        ],
        [
         "13",
         "5",
         "2",
         "Heart Failure",
         "What lifestyle changes can help manage heart failure?",
         "yes"
        ],
        [
         "14",
         "5",
         "3",
         "Heart Failure",
         "What lifestyle changes can help manage heart failure?",
         "yes"
        ]
       ],
       "shape": {
        "columns": 5,
        "rows": 15
       }
      },
      "text/html": [
       "<div>\n",
       "<style scoped>\n",
       "    .dataframe tbody tr th:only-of-type {\n",
       "        vertical-align: middle;\n",
       "    }\n",
       "\n",
       "    .dataframe tbody tr th {\n",
       "        vertical-align: top;\n",
       "    }\n",
       "\n",
       "    .dataframe thead th {\n",
       "        text-align: right;\n",
       "    }\n",
       "</style>\n",
       "<table border=\"1\" class=\"dataframe\">\n",
       "  <thead>\n",
       "    <tr style=\"text-align: right;\">\n",
       "      <th></th>\n",
       "      <th>index</th>\n",
       "      <th>query_id</th>\n",
       "      <th>category</th>\n",
       "      <th>question</th>\n",
       "      <th>select</th>\n",
       "    </tr>\n",
       "  </thead>\n",
       "  <tbody>\n",
       "    <tr>\n",
       "      <th>0</th>\n",
       "      <td>1</td>\n",
       "      <td>1</td>\n",
       "      <td>Heart Failure</td>\n",
       "      <td>What are the common symptoms of heart failure?</td>\n",
       "      <td>yes</td>\n",
       "    </tr>\n",
       "    <tr>\n",
       "      <th>1</th>\n",
       "      <td>1</td>\n",
       "      <td>2</td>\n",
       "      <td>Heart Failure</td>\n",
       "      <td>What are the common symptoms of heart failure?</td>\n",
       "      <td>yes</td>\n",
       "    </tr>\n",
       "    <tr>\n",
       "      <th>2</th>\n",
       "      <td>1</td>\n",
       "      <td>3</td>\n",
       "      <td>Heart Failure</td>\n",
       "      <td>What are the common symptoms of heart failure?</td>\n",
       "      <td>yes</td>\n",
       "    </tr>\n",
       "    <tr>\n",
       "      <th>3</th>\n",
       "      <td>2</td>\n",
       "      <td>1</td>\n",
       "      <td>Heart Failure</td>\n",
       "      <td>What medications are typically prescribed for ...</td>\n",
       "      <td>yes</td>\n",
       "    </tr>\n",
       "    <tr>\n",
       "      <th>4</th>\n",
       "      <td>2</td>\n",
       "      <td>2</td>\n",
       "      <td>Heart Failure</td>\n",
       "      <td>What medications are typically prescribed for ...</td>\n",
       "      <td>yes</td>\n",
       "    </tr>\n",
       "    <tr>\n",
       "      <th>5</th>\n",
       "      <td>2</td>\n",
       "      <td>3</td>\n",
       "      <td>Heart Failure</td>\n",
       "      <td>What medications are typically prescribed for ...</td>\n",
       "      <td>yes</td>\n",
       "    </tr>\n",
       "    <tr>\n",
       "      <th>6</th>\n",
       "      <td>3</td>\n",
       "      <td>1</td>\n",
       "      <td>Cardiomyopathy</td>\n",
       "      <td>What are the genetic causes of cardiomyopathy?</td>\n",
       "      <td>yes</td>\n",
       "    </tr>\n",
       "    <tr>\n",
       "      <th>7</th>\n",
       "      <td>3</td>\n",
       "      <td>2</td>\n",
       "      <td>Cardiomyopathy</td>\n",
       "      <td>What are the genetic causes of cardiomyopathy?</td>\n",
       "      <td>yes</td>\n",
       "    </tr>\n",
       "    <tr>\n",
       "      <th>8</th>\n",
       "      <td>3</td>\n",
       "      <td>3</td>\n",
       "      <td>Cardiomyopathy</td>\n",
       "      <td>What are the genetic causes of cardiomyopathy?</td>\n",
       "      <td>yes</td>\n",
       "    </tr>\n",
       "    <tr>\n",
       "      <th>9</th>\n",
       "      <td>4</td>\n",
       "      <td>1</td>\n",
       "      <td>Cardiomyopathy</td>\n",
       "      <td>How is cardiomyopathy diagnosed?</td>\n",
       "      <td>yes</td>\n",
       "    </tr>\n",
       "    <tr>\n",
       "      <th>10</th>\n",
       "      <td>4</td>\n",
       "      <td>2</td>\n",
       "      <td>Cardiomyopathy</td>\n",
       "      <td>How is cardiomyopathy diagnosed?</td>\n",
       "      <td>yes</td>\n",
       "    </tr>\n",
       "    <tr>\n",
       "      <th>11</th>\n",
       "      <td>4</td>\n",
       "      <td>3</td>\n",
       "      <td>Cardiomyopathy</td>\n",
       "      <td>How is cardiomyopathy diagnosed?</td>\n",
       "      <td>yes</td>\n",
       "    </tr>\n",
       "    <tr>\n",
       "      <th>12</th>\n",
       "      <td>5</td>\n",
       "      <td>1</td>\n",
       "      <td>Heart Failure</td>\n",
       "      <td>What lifestyle changes can help manage heart f...</td>\n",
       "      <td>yes</td>\n",
       "    </tr>\n",
       "    <tr>\n",
       "      <th>13</th>\n",
       "      <td>5</td>\n",
       "      <td>2</td>\n",
       "      <td>Heart Failure</td>\n",
       "      <td>What lifestyle changes can help manage heart f...</td>\n",
       "      <td>yes</td>\n",
       "    </tr>\n",
       "    <tr>\n",
       "      <th>14</th>\n",
       "      <td>5</td>\n",
       "      <td>3</td>\n",
       "      <td>Heart Failure</td>\n",
       "      <td>What lifestyle changes can help manage heart f...</td>\n",
       "      <td>yes</td>\n",
       "    </tr>\n",
       "  </tbody>\n",
       "</table>\n",
       "</div>"
      ],
      "text/plain": [
       "    index  query_id        category  \\\n",
       "0       1         1   Heart Failure   \n",
       "1       1         2   Heart Failure   \n",
       "2       1         3   Heart Failure   \n",
       "3       2         1   Heart Failure   \n",
       "4       2         2   Heart Failure   \n",
       "5       2         3   Heart Failure   \n",
       "6       3         1  Cardiomyopathy   \n",
       "7       3         2  Cardiomyopathy   \n",
       "8       3         3  Cardiomyopathy   \n",
       "9       4         1  Cardiomyopathy   \n",
       "10      4         2  Cardiomyopathy   \n",
       "11      4         3  Cardiomyopathy   \n",
       "12      5         1   Heart Failure   \n",
       "13      5         2   Heart Failure   \n",
       "14      5         3   Heart Failure   \n",
       "\n",
       "                                             question select  \n",
       "0      What are the common symptoms of heart failure?    yes  \n",
       "1      What are the common symptoms of heart failure?    yes  \n",
       "2      What are the common symptoms of heart failure?    yes  \n",
       "3   What medications are typically prescribed for ...    yes  \n",
       "4   What medications are typically prescribed for ...    yes  \n",
       "5   What medications are typically prescribed for ...    yes  \n",
       "6      What are the genetic causes of cardiomyopathy?    yes  \n",
       "7      What are the genetic causes of cardiomyopathy?    yes  \n",
       "8      What are the genetic causes of cardiomyopathy?    yes  \n",
       "9                    How is cardiomyopathy diagnosed?    yes  \n",
       "10                   How is cardiomyopathy diagnosed?    yes  \n",
       "11                   How is cardiomyopathy diagnosed?    yes  \n",
       "12  What lifestyle changes can help manage heart f...    yes  \n",
       "13  What lifestyle changes can help manage heart f...    yes  \n",
       "14  What lifestyle changes can help manage heart f...    yes  "
      ]
     },
     "execution_count": 44,
     "metadata": {},
     "output_type": "execute_result"
    }
   ],
   "source": [
    "# Repeat each question n_queries times\n",
    "questions_df = questions_df.loc[questions_df.index.repeat(\n",
    "    n_queries)].reset_index(drop=True)\n",
    "\n",
    "# Add query_id column to differentiate between repetitions\n",
    "questions_df['query_id'] = questions_df.groupby('index').cumcount() + 1\n",
    "\n",
    "# Reorder columns to place 'query_id' after 'index'\n",
    "cols = questions_df.columns.tolist()\n",
    "cols.insert(1, cols.pop(cols.index('query_id')))\n",
    "questions_df = questions_df[cols]\n",
    "questions_df"
   ]
  },
  {
   "cell_type": "markdown",
   "id": "abcc8abf",
   "metadata": {},
   "source": [
    "## Define Function to Query APIs\n"
   ]
  },
  {
   "cell_type": "code",
   "execution_count": 45,
   "id": "ed0a059f",
   "metadata": {},
   "outputs": [],
   "source": [
    "def initialize_model(model_name):\n",
    "    \"\"\"\n",
    "    Helper function to initialize a model based on the name and environment variable.\n",
    "    Returns a model instance or raises an informative error.\n",
    "    \"\"\"\n",
    "    system_prompt = \"You are a friendly but terse assistant.\"\n",
    "\n",
    "    if model_name == 'openai':\n",
    "        api_key = os.getenv('OPENAI_API_KEY')\n",
    "        if not api_key:\n",
    "            raise EnvironmentError(\"Missing OPENAI_API_KEY\")\n",
    "        # https://platform.openai.com/docs/models\n",
    "        return ChatOpenAI(model=\"gpt-4o\", system_prompt=system_prompt, api_key=api_key)\n",
    "\n",
    "    elif model_name == 'google':\n",
    "        api_key = os.getenv('GOOGLE_API_KEY')\n",
    "        if not api_key:\n",
    "            raise EnvironmentError(\"Missing GOOGLE_API_KEY\")\n",
    "        # https://aistudio.google.com/\n",
    "        return ChatGoogle(model=\"gemini-2.5-pro-preview-05-06\", system_prompt=system_prompt, api_key=api_key)\n",
    "\n",
    "    elif model_name == 'perplexity':\n",
    "        api_key = os.getenv('PERPLEXITY_API_KEY')\n",
    "        if not api_key:\n",
    "            raise EnvironmentError(\"Missing PERPLEXITY_API_KEY\")\n",
    "        # [\"sonar\", \"sonar-pro\", \"r1-1776\"], https://docs.perplexity.ai/models/model-cards\n",
    "        return ChatPerplexity(model=\"sonar\", system_prompt=system_prompt, api_key=api_key)\n",
    "\n",
    "    elif model_name == 'github':\n",
    "        api_key = os.getenv('GITHUB_PAT')\n",
    "        if not api_key:\n",
    "            raise EnvironmentError(\"Missing GITHUB_PAT\")\n",
    "        # https://aistudio.google.com/\n",
    "        return ChatGithub(model=\"gpt-4o\", system_prompt=system_prompt, api_key=api_key)\n",
    "\n",
    "    elif model_name == 'ollama':\n",
    "        return ChatOllama(model=\"llama3.2\", system_prompt=system_prompt)\n",
    "\n",
    "    else:\n",
    "        raise ValueError(f\"Unsupported model: {model_name}\")"
   ]
  },
  {
   "cell_type": "code",
   "execution_count": 51,
   "id": "75075cc8",
   "metadata": {},
   "outputs": [],
   "source": [
    "\n",
    "def query_models_chatlas(questions_df, models_to_run=['openai', 'google', 'perplexity', 'github', 'ollama']):\n",
    "    \"\"\"\n",
    "    Query selected models using Chatlas and return a DataFrame with responses.\n",
    "\n",
    "    Args:\n",
    "        questions_df (pd.DataFrame): Must have 'index', 'category', 'question'.\n",
    "        models_to_run (list): Models to query. Options: 'openai', 'google', 'perplexity', 'github', 'ollama'.\n",
    "\n",
    "    Returns:\n",
    "        pd.DataFrame: Responses from each model for each question.\n",
    "    \"\"\"\n",
    "    responses = []\n",
    "\n",
    "    # Initialize selected models\n",
    "    model_instances = {}\n",
    "    for model in models_to_run:\n",
    "        try:\n",
    "            model_instances[model] = initialize_model(model)\n",
    "        except Exception as e:\n",
    "            print(f\"[Warning] Failed to initialize {model}: {e}\")\n",
    "            model_instances[model] = None\n",
    "\n",
    "    # Query each model\n",
    "    for _, row in tqdm(questions_df.iterrows(), total=len(questions_df), desc=\"Querying models\"):\n",
    "        question, category = row['question'], row['category']\n",
    "        response_entry = {\n",
    "            'index': row['index'],\n",
    "            'query_id': row['query_id'],\n",
    "            'category': category,\n",
    "            'question': question\n",
    "        }\n",
    "\n",
    "        for model_key in models_to_run:\n",
    "            instance = model_instances.get(model_key)\n",
    "            try:\n",
    "                if instance:\n",
    "                    response = instance.chat(question, echo=\"none\")\n",
    "                    response_entry[f'{model_key}_response'] = response.content\n",
    "                else:\n",
    "                    response_entry[f'{model_key}_response'] = \"Initialization failed\"\n",
    "            except Exception as e:\n",
    "                response_entry[f'{model_key}_response'] = f\"Error: {str(e)}\"\n",
    "\n",
    "        responses.append(response_entry)\n",
    "\n",
    "    return pd.DataFrame(responses)"
   ]
  },
  {
   "cell_type": "markdown",
   "id": "3da08f56",
   "metadata": {},
   "source": [
    "## Run Queries and Save Responses\n"
   ]
  },
  {
   "cell_type": "code",
   "execution_count": 53,
   "id": "64d0c778",
   "metadata": {},
   "outputs": [
    {
     "name": "stderr",
     "output_type": "stream",
     "text": [
      "Querying models: 100%|██████████| 15/15 [00:56<00:00,  3.79s/it]\n"
     ]
    }
   ],
   "source": [
    "responses_df = query_models_chatlas(questions_df=questions_df, models_to_run=[\n",
    "                                    'ollama'])  # ['openai', 'google', 'perplexity', 'github', 'ollama']"
   ]
  },
  {
   "cell_type": "code",
   "execution_count": 54,
   "id": "9c828415",
   "metadata": {},
   "outputs": [
    {
     "data": {
      "application/vnd.microsoft.datawrangler.viewer.v0+json": {
       "columns": [
        {
         "name": "index",
         "rawType": "int64",
         "type": "integer"
        },
        {
         "name": "index",
         "rawType": "int64",
         "type": "integer"
        },
        {
         "name": "query_id",
         "rawType": "int64",
         "type": "integer"
        },
        {
         "name": "category",
         "rawType": "object",
         "type": "string"
        },
        {
         "name": "question",
         "rawType": "object",
         "type": "string"
        },
        {
         "name": "ollama_response",
         "rawType": "object",
         "type": "string"
        }
       ],
       "conversionMethod": "pd.DataFrame",
       "ref": "a4396311-c1b1-4877-912b-372e1b64cdd6",
       "rows": [
        [
         "0",
         "1",
         "1",
         "Heart Failure",
         "What are the common symptoms of heart failure?",
         "Swollen legs, ankles, and feet (edema). Shortness of breath, fatigue, and coughing up pink frothy mucus (pulmonary edema). Loss of appetite, weight loss, and difficulty breathing. Palpitations, dizziness, and fainting. Coughing, wheezing, or chest pain."
        ],
        [
         "1",
         "1",
         "2",
         "Heart Failure",
         "What are the common symptoms of heart failure?",
         "Common symptoms include:\n\n1. Shortness of breath (dyspnea)\n2. Fatigue\n3. Swelling in legs, ankles, and feet (edema)\n4. Coughing up pink frothy mucus\n5. Wheezing or coughing\n6. Chest pain or discomfort\n7. Palpitations or rapid heartbeat\n8. Dizziness or lightheadedness\n\nKeep in mind not all patients will exhibit these symptoms, and some may experience different symptoms altogether."
        ],
        [
         "2",
         "1",
         "3",
         "Heart Failure",
         "What are the common symptoms of heart failure?",
         "Common symptoms include:\n\n1. Shortness of breath (dyspnea)\n2. Swelling in legs, ankles, and feet\n3. Fatigue\n4. Coughing or wheezing\n5. Chest pain or discomfort\n6. Palpitations or rapid heartbeat\n7. Dizziness or lightheadedness\n\nNote: Some people may not experience these symptoms at all, while others may experience different symptoms such as increased urine production, loss of appetite, or weight gain."
        ],
        [
         "3",
         "2",
         "1",
         "Heart Failure",
         "What medications are typically prescribed for heart failure?",
         "Typically prescribed medications for heart failure include:\n\n1. ACE inhibitors (e.g., lisinopril), ARBs (e.g., losartan) to reduce blood pressure and improve fluid balance\n2. Beta blockers (e.g., carvedilol, metoprolol) to slow the heart rate and reduce workload\n3. Diuretics (e.g., furosemide) to remove excess fluid from the body\n4. Vasodilators (e.g., hydralazine) to relax blood vessels\n5. ARNI (angiotensin receptor neprilysin inhibitor) e.g., sacubitril/valsartan, for combination therapy\n\nAdditionally, medications like beta agonists (e.g., epinephrine), inotropes (e.g., dobutamine), and cardiac glycosides (e.g., digoxin) may be used to manage specific symptoms or conditions."
        ],
        [
         "4",
         "2",
         "2",
         "Heart Failure",
         "What medications are typically prescribed for heart failure?",
         "Commonly prescribed medications for heart failure include:\n\n1. ACE inhibitors/ARBs\n2. Beta blockers\n3. Diuretics\n4. Vasodilators\n5. ARNI (angiotensin receptor neprilysin inhibitor)\n6. Aldosterone antagonists (e.g., spironolactone)\n\nNote: The specific medications may vary depending on the individual's condition, such as left ventricular function, and may involve combination therapy."
        ],
        [
         "5",
         "2",
         "3",
         "Heart Failure",
         "What medications are typically prescribed for heart failure?",
         "Typically prescribed medications include:\n\n1. ACE inhibitors (e.g., Lisinopril)\n2. Beta blockers (e.g., Metoprolol)\n3. Diuretics (e.g., Furosemide)\n\nThese medications aim to alleviate the progression of heart failure and improve symptoms, such as shortness of breath and swelling."
        ],
        [
         "6",
         "3",
         "1",
         "Cardiomyopathy",
         "What are the genetic causes of cardiomyopathy?",
         "Common genetic causes of cardiomyopathy include:\n\n1. Familial hypertrophic cardiomyopathy (FHCM) associated with mutations in MYBPC3 or MYH7\n2. Hypertrophic cardiomyopathy (HCM) due to MYCDIN/MYHC, TAZ1/Taz2, and ARNT2 mutations\n3. Familial dilated cardiomyopathy (FDCM) related to genetic variants in TGFBR3, EPHA2/EphB4, and PRKCG\n4. Arrhythmogenic right ventricular cardiomyopathy (ARVC) caused by mutations in plakins (PKP2, PKP3), desmosomal proteins (desmoplakin, desmocollin 2)\n\nThese genetic causes can be inherited, leading to a family history of the condition."
        ],
        [
         "7",
         "3",
         "2",
         "Cardiomyopathy",
         "What are the genetic causes of cardiomyopathy?",
         "Some common genetic causes of cardiomyopathy include:\n\n1. Hypertrophic Cardiomyopathy (HCM): mutations in myosin heavy chain (MYH7), β-myosin heavy chain (MYBPC3), or cardiac troponin T (TNNT2)\n2. Dilated Cardiomyopathy (DCM): mutations in TGFBR3, EPHA2/EphB4, PRKCG, or phospholipase C gamma 3 (PLC3G)\n3. Arrhythmogenic Right Ventricular Cardiomyopathy (ARVC): mutations in plakins (PKP2, PKP3), desmosomal proteins (desmoplakin, desmocollin 2)\n4. Familial Hypertrophic Cardiomyopathy: mutations in cardiac myosin light chain enhancer (CMLCE), β-myosin heavy chain (MYBPC3),\n5. Brugada Syndrome: mutations in GPD1A or CACNA1C\n6. Arrhythmogenic Right Ventricular Dysplasia (ARVD): mutations in PLN, GSDME, DSG2, TWF1.\n\nNote that many cases of cardiomyopathy remain idiopathic and genetic testing is not always available or effective."
        ],
        [
         "8",
         "3",
         "3",
         "Cardiomyopathy",
         "What are the genetic causes of cardiomyopathy?",
         "Genetic causes of cardiomyopathy include:\n\n1. Mutations in sarcomeric proteins (e.g., MYBPC3, MYH7)\n2. Mutations in membrane proteins (e.g., PLN, GSDME, DSG2)\n3. Mutations in transcriptional regulators (e.g., SMAD3)\n4. Mutations in DNA repair genes (e.g., TP53)\n5. Mutations in ion channel genes (e.g., CACNA1C)\n6. Mutations in gene regulatory networks\n\nThese genetic mutations can lead to changes in protein function, structure, or expression, ultimately affecting the heart's ability to function properly.\n\nSpecific examples of genetic causes include:\n\n* Hypertrophic cardiomyopathy (HCM): MYBPC3 and MYH7\n* Dilated cardiomyopathy (DCM): TGFBR3 and PLN\n* Arrhythmogenic right ventricular disease (ARVD): PLN, GSDME, and DSG2\n\nNote that many cases of cardiomyopathy are not due to a specific genetic mutation."
        ],
        [
         "9",
         "4",
         "1",
         "Cardiomyopathy",
         "How is cardiomyopathy diagnosed?",
         "Diagnosis of cardiomyopathy typically involves:\n\n1. Physical examination: Checking for signs of heart failure, arrhythmias, or other symptoms.\n2. Medical history: Reviewing family medical history and risk factors for the disease.\n3. Echocardiogram (echo): Using sound waves to produce images of the heart's structure and function.\n4. Electrocardiogram (ECG or EKG): Measuring electrical activity of the heart.\n5. Blood tests: Analyzing blood levels of cardiac enzymes, electrolytes, and other markers.\n6. Cardiac MRI: Creating detailed images of the heart's anatomy and function.\n7. Stress test: Exercising to assess heart rate and rhythm during physical activity.\n\nAdditional diagnostic tools may include:\n\n1. Heart catheterization to evaluate blood flow and pressure\n2. Cardiac biomarker testing (e.g., troponin levels)"
        ],
        [
         "10",
         "4",
         "2",
         "Cardiomyopathy",
         "How is cardiomyopathy diagnosed?",
         "Diagnosis of cardiomyopathy typically involves a combination of:\n\n1. Clinical evaluation: Physical examination and medical history review\n2. Echocardiogram (echo): To assess heart structure and function\n3. Electrocardiogram (ECG or EKG): To evaluate electrical activity of the heart\n4. Blood tests: To check for biomarkers, such as troponin, that indicate cardiac damage\n5. Age-appropriate testing: Such as stress test if indicated\n\nIn some cases, additional diagnostic tests may be ordered, including:\n\n1. Cardiac MRI (MRI): For detailed imaging of the heart's anatomy and function\n2. Heart catheterization: To evaluate blood flow and pressure\n3. Echocardiography-guided biopsy: To take a sample of heart tissue for examination"
        ],
        [
         "11",
         "4",
         "3",
         "Cardiomyopathy",
         "How is cardiomyopathy diagnosed?",
         "Diagnosis of cardiomyopathy typically involves:\n\n1. Physical examination and medical history review\n2. Echocardiogram (echo) to visualize the heart's structure and function\n3. Electrocardiogram (ECG or EKG) to evaluate electrical activity\n4. Blood tests to check for biomarkers, such as troponin, that indicate cardiac damage\n\nAdditional testing may include:\n\n1. Stress test to assess heart function during physical activity\n2. Cardiac MRI to provide detailed images of the heart's anatomy and function\n3. Heart catheterization to evaluate blood flow and pressure"
        ],
        [
         "12",
         "5",
         "1",
         "Heart Failure",
         "What lifestyle changes can help manage heart failure?",
         "To manage heart failure, consider the following lifestyle changes:\n\n1. **Exercise regularly**: Gentle exercises like walking, swimming, or cycling to improve cardiovascular health.\n2. **Maintain a healthy weight**: Eating a balanced diet and losing excess weight if necessary.\n3. **Follow a low-sodium diet**: Limiting sodium intake to reduce fluid retention.\n4. **Stay hydrated**: Drinking enough water and avoiding excessive caffeine and alcohol.\n5. **Regular monitoring**: Regular checks with your healthcare provider to adjust medications, manage symptoms, and prevent complications.\n6. **Medication adherence**: Taking prescribed medications as directed to manage symptoms and slow disease progression.\n7. **Stress management**: Engaging in stress-reducing activities like meditation, yoga, or deep breathing exercises.\n8. **Sleep habits improvement**: Establishing a regular sleep schedule and creating a relaxing bedtime routine.\n9. **Elevated legs positioning**: Elevating your legs when sitting or lying down to reduce swelling.\n10. **Avoid excessive exertion**: Gradually increasing exercise intensity and frequency to avoid exhaustion.\n\nRemember, it's essential to consult with your healthcare provider before making any significant changes to your lifestyle."
        ],
        [
         "13",
         "5",
         "2",
         "Heart Failure",
         "What lifestyle changes can help manage heart failure?",
         "To effectively manage heart failure, consider the following lifestyle changes:\n\n1. **Exercise regularly**: Aim for 30 minutes of moderate-intensity exercise, such as brisk walking, most days of the week.\n2. **Monitor and manage stress**: Engage in stress-reducing activities like meditation, yoga, or deep breathing exercises to help cope with stress.\n3. **Healthy eating habits**: Focus on whole, unprocessed foods, such as vegetables, fruits, whole grains, lean proteins, and healthy fats.\n4. **Maintain a healthy weight**: Aim for a body mass index (BMI) between 18.5 and 25.\n5. **Limit sodium intake**: Consume no more than 2,300 milligrams of sodium per day.\n6. **Stay hydrated**: Drink plenty of water throughout the day, aiming for at least eight cups (64 ounces).\n7. **Get enough sleep**: Aim for 7-8 hours of sleep each night to help regulate your body's rhythms.\n8. **Avoid smoking and tobacco products**: Smoking can worsen heart failure symptoms and reduce treatment effectiveness.\n9. **Limit alcohol consumption**: Men should limit their intake to no more than one drink per day, while women should limit theirs to no more than half a drink per day.\n10. **Adhere to medications and treatment plans**: Take all prescribed medications as directed and follow your healthcare provider's recommendations for managing your condition.\n\nBy incorporating these lifestyle changes into your daily routine, you can help manage heart failure symptoms, improve overall health, and reduce the risk of complications."
        ],
        [
         "14",
         "5",
         "3",
         "Heart Failure",
         "What lifestyle changes can help manage heart failure?",
         "To effectively manage heart failure, consider the following lifestyle changes:\n\n1. **Exercise regularly**: Aim for 30 minutes of moderate-intensity exercise, such as brisk walking, most days of the week.\n2. **Monitor and manage stress**: Engage in stress-reducing activities like meditation, yoga, or deep breathing exercises to help cope with stress.\n3. **Healthy eating habits**: Focus on whole, unprocessed foods, such as vegetables, fruits, whole grains, lean proteins, and healthy fats.\n4. **Maintain a healthy weight**: Aim for a body mass index (BMI) between 18.5 and 25.\n5. **Limit sodium intake**: Consume no more than 2,300 milligrams of sodium per day.\n6. **Stay hydrated**: Drink plenty of water throughout the day, aiming for at least eight cups (64 ounces).\n7. **Get enough sleep**: Aim for 7-8 hours of sleep each night to help regulate your body's rhythms.\n8. **Avoid smoking and tobacco products**: Smoking can worsen heart failure symptoms and reduce treatment effectiveness.\n9. **Limit alcohol consumption**: Men should limit their intake to no more than one drink per day, while women should limit theirs to no more than half a drink per day.\n10. **Get regular check-ups**: Regularly schedule appointments with your healthcare provider to monitor your condition and make any necessary adjustments to your treatment plan.\n\nAdditionally, consider the following:\n\n* **Swimming or other low-impact exercises**: Can be beneficial for people with heart failure, as they require less energy than high-impact activities.\n* **Avoiding heavy lifting or bending**: Can help reduce strain on the heart.\n* **Getting enough potassium**: Potassium can help regulate heart rhythm and blood pressure.\n\nBy incorporating these lifestyle changes into your daily routine, you can help manage heart failure symptoms, improve overall health, and increase quality of life."
        ]
       ],
       "shape": {
        "columns": 5,
        "rows": 15
       }
      },
      "text/html": [
       "<div>\n",
       "<style scoped>\n",
       "    .dataframe tbody tr th:only-of-type {\n",
       "        vertical-align: middle;\n",
       "    }\n",
       "\n",
       "    .dataframe tbody tr th {\n",
       "        vertical-align: top;\n",
       "    }\n",
       "\n",
       "    .dataframe thead th {\n",
       "        text-align: right;\n",
       "    }\n",
       "</style>\n",
       "<table border=\"1\" class=\"dataframe\">\n",
       "  <thead>\n",
       "    <tr style=\"text-align: right;\">\n",
       "      <th></th>\n",
       "      <th>index</th>\n",
       "      <th>query_id</th>\n",
       "      <th>category</th>\n",
       "      <th>question</th>\n",
       "      <th>ollama_response</th>\n",
       "    </tr>\n",
       "  </thead>\n",
       "  <tbody>\n",
       "    <tr>\n",
       "      <th>0</th>\n",
       "      <td>1</td>\n",
       "      <td>1</td>\n",
       "      <td>Heart Failure</td>\n",
       "      <td>What are the common symptoms of heart failure?</td>\n",
       "      <td>Swollen legs, ankles, and feet (edema). Shortn...</td>\n",
       "    </tr>\n",
       "    <tr>\n",
       "      <th>1</th>\n",
       "      <td>1</td>\n",
       "      <td>2</td>\n",
       "      <td>Heart Failure</td>\n",
       "      <td>What are the common symptoms of heart failure?</td>\n",
       "      <td>Common symptoms include:\\n\\n1. Shortness of br...</td>\n",
       "    </tr>\n",
       "    <tr>\n",
       "      <th>2</th>\n",
       "      <td>1</td>\n",
       "      <td>3</td>\n",
       "      <td>Heart Failure</td>\n",
       "      <td>What are the common symptoms of heart failure?</td>\n",
       "      <td>Common symptoms include:\\n\\n1. Shortness of br...</td>\n",
       "    </tr>\n",
       "    <tr>\n",
       "      <th>3</th>\n",
       "      <td>2</td>\n",
       "      <td>1</td>\n",
       "      <td>Heart Failure</td>\n",
       "      <td>What medications are typically prescribed for ...</td>\n",
       "      <td>Typically prescribed medications for heart fai...</td>\n",
       "    </tr>\n",
       "    <tr>\n",
       "      <th>4</th>\n",
       "      <td>2</td>\n",
       "      <td>2</td>\n",
       "      <td>Heart Failure</td>\n",
       "      <td>What medications are typically prescribed for ...</td>\n",
       "      <td>Commonly prescribed medications for heart fail...</td>\n",
       "    </tr>\n",
       "    <tr>\n",
       "      <th>5</th>\n",
       "      <td>2</td>\n",
       "      <td>3</td>\n",
       "      <td>Heart Failure</td>\n",
       "      <td>What medications are typically prescribed for ...</td>\n",
       "      <td>Typically prescribed medications include:\\n\\n1...</td>\n",
       "    </tr>\n",
       "    <tr>\n",
       "      <th>6</th>\n",
       "      <td>3</td>\n",
       "      <td>1</td>\n",
       "      <td>Cardiomyopathy</td>\n",
       "      <td>What are the genetic causes of cardiomyopathy?</td>\n",
       "      <td>Common genetic causes of cardiomyopathy includ...</td>\n",
       "    </tr>\n",
       "    <tr>\n",
       "      <th>7</th>\n",
       "      <td>3</td>\n",
       "      <td>2</td>\n",
       "      <td>Cardiomyopathy</td>\n",
       "      <td>What are the genetic causes of cardiomyopathy?</td>\n",
       "      <td>Some common genetic causes of cardiomyopathy i...</td>\n",
       "    </tr>\n",
       "    <tr>\n",
       "      <th>8</th>\n",
       "      <td>3</td>\n",
       "      <td>3</td>\n",
       "      <td>Cardiomyopathy</td>\n",
       "      <td>What are the genetic causes of cardiomyopathy?</td>\n",
       "      <td>Genetic causes of cardiomyopathy include:\\n\\n1...</td>\n",
       "    </tr>\n",
       "    <tr>\n",
       "      <th>9</th>\n",
       "      <td>4</td>\n",
       "      <td>1</td>\n",
       "      <td>Cardiomyopathy</td>\n",
       "      <td>How is cardiomyopathy diagnosed?</td>\n",
       "      <td>Diagnosis of cardiomyopathy typically involves...</td>\n",
       "    </tr>\n",
       "    <tr>\n",
       "      <th>10</th>\n",
       "      <td>4</td>\n",
       "      <td>2</td>\n",
       "      <td>Cardiomyopathy</td>\n",
       "      <td>How is cardiomyopathy diagnosed?</td>\n",
       "      <td>Diagnosis of cardiomyopathy typically involves...</td>\n",
       "    </tr>\n",
       "    <tr>\n",
       "      <th>11</th>\n",
       "      <td>4</td>\n",
       "      <td>3</td>\n",
       "      <td>Cardiomyopathy</td>\n",
       "      <td>How is cardiomyopathy diagnosed?</td>\n",
       "      <td>Diagnosis of cardiomyopathy typically involves...</td>\n",
       "    </tr>\n",
       "    <tr>\n",
       "      <th>12</th>\n",
       "      <td>5</td>\n",
       "      <td>1</td>\n",
       "      <td>Heart Failure</td>\n",
       "      <td>What lifestyle changes can help manage heart f...</td>\n",
       "      <td>To manage heart failure, consider the followin...</td>\n",
       "    </tr>\n",
       "    <tr>\n",
       "      <th>13</th>\n",
       "      <td>5</td>\n",
       "      <td>2</td>\n",
       "      <td>Heart Failure</td>\n",
       "      <td>What lifestyle changes can help manage heart f...</td>\n",
       "      <td>To effectively manage heart failure, consider ...</td>\n",
       "    </tr>\n",
       "    <tr>\n",
       "      <th>14</th>\n",
       "      <td>5</td>\n",
       "      <td>3</td>\n",
       "      <td>Heart Failure</td>\n",
       "      <td>What lifestyle changes can help manage heart f...</td>\n",
       "      <td>To effectively manage heart failure, consider ...</td>\n",
       "    </tr>\n",
       "  </tbody>\n",
       "</table>\n",
       "</div>"
      ],
      "text/plain": [
       "    index  query_id        category  \\\n",
       "0       1         1   Heart Failure   \n",
       "1       1         2   Heart Failure   \n",
       "2       1         3   Heart Failure   \n",
       "3       2         1   Heart Failure   \n",
       "4       2         2   Heart Failure   \n",
       "5       2         3   Heart Failure   \n",
       "6       3         1  Cardiomyopathy   \n",
       "7       3         2  Cardiomyopathy   \n",
       "8       3         3  Cardiomyopathy   \n",
       "9       4         1  Cardiomyopathy   \n",
       "10      4         2  Cardiomyopathy   \n",
       "11      4         3  Cardiomyopathy   \n",
       "12      5         1   Heart Failure   \n",
       "13      5         2   Heart Failure   \n",
       "14      5         3   Heart Failure   \n",
       "\n",
       "                                             question  \\\n",
       "0      What are the common symptoms of heart failure?   \n",
       "1      What are the common symptoms of heart failure?   \n",
       "2      What are the common symptoms of heart failure?   \n",
       "3   What medications are typically prescribed for ...   \n",
       "4   What medications are typically prescribed for ...   \n",
       "5   What medications are typically prescribed for ...   \n",
       "6      What are the genetic causes of cardiomyopathy?   \n",
       "7      What are the genetic causes of cardiomyopathy?   \n",
       "8      What are the genetic causes of cardiomyopathy?   \n",
       "9                    How is cardiomyopathy diagnosed?   \n",
       "10                   How is cardiomyopathy diagnosed?   \n",
       "11                   How is cardiomyopathy diagnosed?   \n",
       "12  What lifestyle changes can help manage heart f...   \n",
       "13  What lifestyle changes can help manage heart f...   \n",
       "14  What lifestyle changes can help manage heart f...   \n",
       "\n",
       "                                      ollama_response  \n",
       "0   Swollen legs, ankles, and feet (edema). Shortn...  \n",
       "1   Common symptoms include:\\n\\n1. Shortness of br...  \n",
       "2   Common symptoms include:\\n\\n1. Shortness of br...  \n",
       "3   Typically prescribed medications for heart fai...  \n",
       "4   Commonly prescribed medications for heart fail...  \n",
       "5   Typically prescribed medications include:\\n\\n1...  \n",
       "6   Common genetic causes of cardiomyopathy includ...  \n",
       "7   Some common genetic causes of cardiomyopathy i...  \n",
       "8   Genetic causes of cardiomyopathy include:\\n\\n1...  \n",
       "9   Diagnosis of cardiomyopathy typically involves...  \n",
       "10  Diagnosis of cardiomyopathy typically involves...  \n",
       "11  Diagnosis of cardiomyopathy typically involves...  \n",
       "12  To manage heart failure, consider the followin...  \n",
       "13  To effectively manage heart failure, consider ...  \n",
       "14  To effectively manage heart failure, consider ...  "
      ]
     },
     "execution_count": 54,
     "metadata": {},
     "output_type": "execute_result"
    }
   ],
   "source": [
    "responses_df"
   ]
  },
  {
   "cell_type": "code",
   "execution_count": null,
   "id": "fedd1ed1",
   "metadata": {},
   "outputs": [],
   "source": []
  }
 ],
 "metadata": {
  "kernelspec": {
   "display_name": ".venv",
   "language": "python",
   "name": "python3"
  },
  "language_info": {
   "codemirror_mode": {
    "name": "ipython",
    "version": 3
   },
   "file_extension": ".py",
   "mimetype": "text/x-python",
   "name": "python",
   "nbconvert_exporter": "python",
   "pygments_lexer": "ipython3",
   "version": "3.11.11"
  }
 },
 "nbformat": 4,
 "nbformat_minor": 5
}
