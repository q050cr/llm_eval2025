{
 "cells": [
  {
   "cell_type": "markdown",
   "id": "eabbbcb7",
   "metadata": {},
   "source": [
    "## DeepSeek API"
   ]
  },
  {
   "cell_type": "code",
   "execution_count": 3,
   "id": "9876a4cd",
   "metadata": {},
   "outputs": [],
   "source": [
    "import os\n",
    "from openai import OpenAI\n",
    "from dotenv import load_dotenv"
   ]
  },
  {
   "cell_type": "code",
   "execution_count": 2,
   "id": "9536fbc8",
   "metadata": {},
   "outputs": [],
   "source": [
    "# Load environment variables from .env file\n",
    "load_dotenv()\n",
    "deepseek_api_key = os.getenv(\"DEEPSEEK_API_KEY\")"
   ]
  },
  {
   "cell_type": "code",
   "execution_count": 4,
   "id": "60b18bf3",
   "metadata": {},
   "outputs": [],
   "source": [
    "client = OpenAI(api_key=deepseek_api_key,\n",
    "                base_url=\"https://api.deepseek.com\")\n",
    "\n",
    "response = client.chat.completions.create(\n",
    "    model=\"deepseek-chat\",\n",
    "    messages=[\n",
    "        {\"role\": \"system\", \"content\": \"You are a helpful cardiologist\"},\n",
    "        {\"role\": \"user\", \"content\": \"What is heart failure?\"},\n",
    "    ],\n",
    "    stream=False\n",
    ")"
   ]
  },
  {
   "cell_type": "code",
   "execution_count": 5,
   "id": "e65b9d53",
   "metadata": {},
   "outputs": [
    {
     "name": "stdout",
     "output_type": "stream",
     "text": [
      "**Heart failure** is a chronic, progressive condition where the heart is unable to pump enough blood to meet the body's needs. It occurs when the heart muscle becomes weakened, stiff, or damaged, leading to insufficient oxygen and nutrient delivery to tissues and organs.\n",
      "\n",
      "### **Key Aspects of Heart Failure:**\n",
      "1. **Types:**  \n",
      "   - **Left-sided HF** (most common):  \n",
      "     - **Systolic HF (HFrEF - Reduced Ejection Fraction):** The heart can't contract effectively.  \n",
      "     - **Diastolic HF (HFpEF - Preserved Ejection Fraction):** The heart can't relax/fill properly.  \n",
      "   - **Right-sided HF:** Often due to left-sided HF or lung disease, causing fluid buildup in the body.  \n",
      "   - **Congestive HF:** Fluid accumulation (congestion) in lungs, legs, or abdomen.\n",
      "\n",
      "2. **Common Causes:**  \n",
      "   - Coronary artery disease (CAD) / Heart attack  \n",
      "   - Hypertension (high blood pressure)  \n",
      "   - Cardiomyopathy (disease of the heart muscle)  \n",
      "   - Valve disorders (e.g., aortic stenosis, mitral regurgitation)  \n",
      "   - Arrhythmias (e.g., atrial fibrillation)  \n",
      "   - Diabetes, obesity, or chronic kidney disease  \n",
      "\n",
      "3. **Symptoms:**  \n",
      "   - Shortness of breath (especially when lying flat or exerting)  \n",
      "   - Fatigue and weakness  \n",
      "   - Swelling in legs, ankles, or abdomen (edema)  \n",
      "   - Rapid or irregular heartbeat  \n",
      "   - Persistent cough/wheezing (due to lung fluid)  \n",
      "\n",
      "4. **Diagnosis:**  \n",
      "   - Physical exam (e.g., listening to lungs/heart, checking for swelling)  \n",
      "   - **Tests:** Echocardiogram (measures ejection fraction), BNP blood test, ECG, chest X-ray, MRI, or stress tests.  \n",
      "\n",
      "5. **Treatment:**  \n",
      "   - **Lifestyle changes:** Low-salt diet, fluid restriction, exercise, quitting smoking.  \n",
      "   - **Medications:**  \n",
      "     - ACE inhibitors/ARBs/ARNIs (e.g., lisinopril, valsartan, sacubitril/valsartan)  \n",
      "     - Beta-blockers (e.g., carvedilol, metoprolol)  \n",
      "     - Diuretics (\"water pills\" like furosemide) for fluid relief  \n",
      "     - SGLT2 inhibitors (e.g., empagliflozin) – newer treatment  \n",
      "   - **Devices/Surgery:** Pacemakers, ICDs, ventricular assist devices (VADs), or heart transplant in severe cases.  \n",
      "\n",
      "6. **Prognosis:**  \n",
      "   - Managed well with treatment, but often progressive.  \n",
      "   - Staging (e.g., ACC/AHA A-D or NYHA Class I-IV) helps guide therapy.  \n",
      "\n",
      "Would you like details on a specific aspect, such as advanced treatments or lifestyle management?\n"
     ]
    }
   ],
   "source": [
    "print(response.choices[0].message.content)"
   ]
  },
  {
   "cell_type": "markdown",
   "id": "120072cc",
   "metadata": {},
   "source": [
    "Created a custom DeepSeek class in chatlas_query.ipynb since i ran into an error when using the `chatlas` OpenAI API as recommended. "
   ]
  },
  {
   "cell_type": "markdown",
   "id": "138b37e5",
   "metadata": {},
   "source": []
  }
 ],
 "metadata": {
  "kernelspec": {
   "display_name": ".venv",
   "language": "python",
   "name": "python3"
  },
  "language_info": {
   "codemirror_mode": {
    "name": "ipython",
    "version": 3
   },
   "file_extension": ".py",
   "mimetype": "text/x-python",
   "name": "python",
   "nbconvert_exporter": "python",
   "pygments_lexer": "ipython3",
   "version": "3.11.11"
  }
 },
 "nbformat": 4,
 "nbformat_minor": 5
}
