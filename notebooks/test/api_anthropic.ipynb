{
 "cells": [
  {
   "cell_type": "markdown",
   "id": "303f77f7",
   "metadata": {},
   "source": [
    "## Anthropic API"
   ]
  },
  {
   "cell_type": "code",
   "execution_count": 4,
   "id": "4f0f51e8",
   "metadata": {},
   "outputs": [],
   "source": [
    "import os\n",
    "import anthropic\n",
    "from dotenv import load_dotenv"
   ]
  },
  {
   "cell_type": "code",
   "execution_count": null,
   "id": "0f700f89",
   "metadata": {},
   "outputs": [],
   "source": [
    "# Load environment variables from .env file\n",
    "load_dotenv()\n",
    "anthropic_api_key = os.getenv(\"ANTHROPIC_API_KEY\")"
   ]
  },
  {
   "cell_type": "code",
   "execution_count": 7,
   "id": "2b25ca46",
   "metadata": {},
   "outputs": [],
   "source": [
    "# https://console.anthropic.com/workbench/\n",
    "\n",
    "client = anthropic.Anthropic(\n",
    "    # defaults to os.environ.get(\"ANTHROPIC_API_KEY\")\n",
    "    api_key=anthropic_api_key,\n",
    ")\n",
    "\n",
    "message = client.messages.create(\n",
    "    model=\"claude-3-7-sonnet-20250219\",\n",
    "    max_tokens=20000,\n",
    "    temperature=1,\n",
    "    system=\"you are a cardiologist\",\n",
    "    messages=[\n",
    "        {\n",
    "            \"role\": \"user\",\n",
    "            \"content\": [\n",
    "                {\n",
    "                    \"type\": \"text\",\n",
    "                    \"text\": \"what is heart failure\"\n",
    "                }\n",
    "            ]\n",
    "        }\n",
    "    ]\n",
    ")"
   ]
  },
  {
   "cell_type": "code",
   "execution_count": 8,
   "id": "42601eb6",
   "metadata": {},
   "outputs": [
    {
     "name": "stdout",
     "output_type": "stream",
     "text": [
      "[TextBlock(citations=None, text=\"# Heart Failure\\n\\nHeart failure is a chronic, progressive condition where the heart is unable to pump enough blood to meet the body's needs for blood and oxygen. It doesn't mean that the heart has stopped working, but rather that it isn't working as efficiently as it should.\\n\\n## Causes\\n\\nHeart failure often develops after other conditions have damaged or weakened the heart, including:\\n- Coronary artery disease and heart attacks\\n- High blood pressure (hypertension)\\n- Valvular heart disease\\n- Cardiomyopathy (disease of the heart muscle)\\n- Congenital heart defects\\n- Arrhythmias (abnormal heart rhythms)\\n- Chronic alcohol or drug abuse\\n- Certain medications or treatments like chemotherapy\\n\\n## Types of Heart Failure\\n\\nHeart failure can affect the left side, right side, or both sides of the heart:\\n- Left-sided heart failure (most common)\\n- Right-sided heart failure\\n- Biventricular heart failure\\n\\nIt's also classified based on ejection fraction (EF):\\n- Heart failure with reduced ejection fraction (HFrEF)\\n- Heart failure with preserved ejection fraction (HFpEF)\\n- Heart failure with mildly reduced ejection fraction (HFmrEF)\\n\\n## Symptoms\\n\\nCommon symptoms include:\\n- Shortness of breath (dyspnea), especially during activity or when lying down\\n- Fatigue and weakness\\n- Swelling (edema) in the legs, ankles, and feet\\n- Rapid or irregular heartbeat\\n- Persistent cough or wheezing\\n- Reduced exercise tolerance\\n- Rapid weight gain from fluid retention\\n- Difficulty concentrating or decreased alertness\\n\\n## Diagnosis\\n\\nDiagnosis typically involves:\\n- Medical history and physical examination\\n- Blood tests (BNP/NT-proBNP, complete blood count, metabolic panel)\\n- Chest X-ray\\n- Electrocardiogram (ECG)\\n- Echocardiogram\\n- Stress tests\\n- Cardiac MRI or CT\\n- Coronary angiogram\\n- Right heart catheterization\\n\\n## Treatment\\n\\nTreatment aims to improve symptoms, slow disease progression, and extend life:\\n- Medications (ACE inhibitors, ARBs, beta-blockers, diuretics, SGLT2 inhibitors, etc.)\\n- Lifestyle modifications (sodium restriction, fluid management, regular exercise)\\n- Devices (implantable cardioverter-defibrillators, cardiac resynchronization therapy)\\n- Surgery (coronary bypass, valve repair/replacement, heart transplant)\\n- Mechanical circulatory support (ventricular assist devices)\\n\\nWould you like me to elaborate on any specific aspect of heart failure?\", type='text')]\n"
     ]
    }
   ],
   "source": [
    "print(message.content)"
   ]
  },
  {
   "cell_type": "code",
   "execution_count": 9,
   "id": "c8653aac",
   "metadata": {},
   "outputs": [
    {
     "data": {
      "text/plain": [
       "Message(id='msg_01TM5qU8hLeZ2KS6AWnzsFqU', content=[TextBlock(citations=None, text=\"# Heart Failure\\n\\nHeart failure is a chronic, progressive condition where the heart is unable to pump enough blood to meet the body's needs for blood and oxygen. It doesn't mean that the heart has stopped working, but rather that it isn't working as efficiently as it should.\\n\\n## Causes\\n\\nHeart failure often develops after other conditions have damaged or weakened the heart, including:\\n- Coronary artery disease and heart attacks\\n- High blood pressure (hypertension)\\n- Valvular heart disease\\n- Cardiomyopathy (disease of the heart muscle)\\n- Congenital heart defects\\n- Arrhythmias (abnormal heart rhythms)\\n- Chronic alcohol or drug abuse\\n- Certain medications or treatments like chemotherapy\\n\\n## Types of Heart Failure\\n\\nHeart failure can affect the left side, right side, or both sides of the heart:\\n- Left-sided heart failure (most common)\\n- Right-sided heart failure\\n- Biventricular heart failure\\n\\nIt's also classified based on ejection fraction (EF):\\n- Heart failure with reduced ejection fraction (HFrEF)\\n- Heart failure with preserved ejection fraction (HFpEF)\\n- Heart failure with mildly reduced ejection fraction (HFmrEF)\\n\\n## Symptoms\\n\\nCommon symptoms include:\\n- Shortness of breath (dyspnea), especially during activity or when lying down\\n- Fatigue and weakness\\n- Swelling (edema) in the legs, ankles, and feet\\n- Rapid or irregular heartbeat\\n- Persistent cough or wheezing\\n- Reduced exercise tolerance\\n- Rapid weight gain from fluid retention\\n- Difficulty concentrating or decreased alertness\\n\\n## Diagnosis\\n\\nDiagnosis typically involves:\\n- Medical history and physical examination\\n- Blood tests (BNP/NT-proBNP, complete blood count, metabolic panel)\\n- Chest X-ray\\n- Electrocardiogram (ECG)\\n- Echocardiogram\\n- Stress tests\\n- Cardiac MRI or CT\\n- Coronary angiogram\\n- Right heart catheterization\\n\\n## Treatment\\n\\nTreatment aims to improve symptoms, slow disease progression, and extend life:\\n- Medications (ACE inhibitors, ARBs, beta-blockers, diuretics, SGLT2 inhibitors, etc.)\\n- Lifestyle modifications (sodium restriction, fluid management, regular exercise)\\n- Devices (implantable cardioverter-defibrillators, cardiac resynchronization therapy)\\n- Surgery (coronary bypass, valve repair/replacement, heart transplant)\\n- Mechanical circulatory support (ventricular assist devices)\\n\\nWould you like me to elaborate on any specific aspect of heart failure?\", type='text')], model='claude-3-7-sonnet-20250219', role='assistant', stop_reason='end_turn', stop_sequence=None, type='message', usage=Usage(cache_creation_input_tokens=0, cache_read_input_tokens=0, input_tokens=17, output_tokens=617, server_tool_use=None))"
      ]
     },
     "execution_count": 9,
     "metadata": {},
     "output_type": "execute_result"
    }
   ],
   "source": [
    "message"
   ]
  }
 ],
 "metadata": {
  "kernelspec": {
   "display_name": ".venv",
   "language": "python",
   "name": "python3"
  },
  "language_info": {
   "codemirror_mode": {
    "name": "ipython",
    "version": 3
   },
   "file_extension": ".py",
   "mimetype": "text/x-python",
   "name": "python",
   "nbconvert_exporter": "python",
   "pygments_lexer": "ipython3",
   "version": "3.11.11"
  }
 },
 "nbformat": 4,
 "nbformat_minor": 5
}
